{
 "cells": [
  {
   "cell_type": "code",
   "execution_count": 1,
   "metadata": {},
   "outputs": [],
   "source": [
    "import pandas as pd\n",
    "import numpy as np\n",
    "import re\n",
    "import dill\n",
    "from sklearn.metrics import roc_curve, confusion_matrix, classification_report\n",
    "from sklearn.feature_extraction.text import CountVectorizer, TfidfVectorizer\n",
    "from sklearn.model_selection import train_test_split\n",
    "from sklearn.pipeline import Pipeline\n",
    "from lightgbm import LGBMModel,LGBMClassifier\n",
    "import matplotlib.pyplot as plt"
   ]
  },
  {
   "cell_type": "markdown",
   "metadata": {},
   "source": [
    "## Import data and view top rows"
   ]
  },
  {
   "cell_type": "code",
   "execution_count": null,
   "metadata": {},
   "outputs": [],
   "source": [
    "dx_df = pd.read_csv('data/DIAGNOSES_ICD.csv',converters={i: str for i in range(100)})[['HADM_ID', 'ICD9_CODE']]\n",
    "icd_des_df = pd.read_csv('data/D_ICD_DIAGNOSES.csv',converters={i: str for i in range(100)})[['ICD9_CODE','LONG_TITLE']]\n",
    "note_df = pd.read_csv('data/NOTEEVENTS.csv',converters={i: str for i in range(100)})[['HADM_ID','TEXT']]"
   ]
  },
  {
   "cell_type": "code",
   "execution_count": null,
   "metadata": {},
   "outputs": [],
   "source": [
    "dx_cleaned_df=dx_df[(dx_df['HADM_ID']!='') & (dx_df['ICD9_CODE']!='')]\\\n",
    "                .drop_duplicates().rename(columns={\"HADM_ID\": \"encounter_id\",\"ICD9_CODE\": \"icd9\"})\n",
    "icd_des_cleaned_df=icd_des_df[(icd_des_df['ICD9_CODE']!='') & (icd_des_df['LONG_TITLE']!='')]\\\n",
    "                    .drop_duplicates().rename(columns={\"ICD9_CODE\": \"icd9\",\"LONG_TITLE\": \"icd_des\"})\n",
    "note_cleaned_df=note_df[(note_df['HADM_ID']!='') & (note_df['TEXT']!='')]\\\n",
    "                .drop_duplicates().rename(columns={\"HADM_ID\": \"encounter_id\",\"TEXT\": \"note\"})\n",
    "note_cleaned_df['note'] = note_cleaned_df['note'].map(lambda x: re.sub('\\n', '', x))\n",
    "note_cleaned_df['note'] = note_cleaned_df['note'].map(lambda x: re.sub('\\[.*?\\]', '', x))"
   ]
  },
  {
   "cell_type": "code",
   "execution_count": null,
   "metadata": {},
   "outputs": [],
   "source": [
    "encounter_id_filter_list=dx_cleaned_df[~dx_cleaned_df['icd9'].isin(icd_des_cleaned_df['icd9']) | \\\n",
    "                                       ~dx_cleaned_df['encounter_id'].isin(note_cleaned_df['encounter_id'])]\\\n",
    "                            ['encounter_id'].drop_duplicates().tolist()"
   ]
  },
  {
   "cell_type": "code",
   "execution_count": null,
   "metadata": {},
   "outputs": [],
   "source": [
    "dx_selected_df=dx_cleaned_df[~dx_cleaned_df['encounter_id'].isin(encounter_id_filter_list)]\n",
    "icd_des_selected_df=icd_des_cleaned_df[icd_des_cleaned_df['icd9'].isin(dx_selected_df['icd9'])]\n",
    "note_selected_df=note_cleaned_df[note_cleaned_df['encounter_id'].isin(dx_selected_df['encounter_id'])]"
   ]
  },
  {
   "cell_type": "code",
   "execution_count": null,
   "metadata": {},
   "outputs": [],
   "source": [
    "note_concat_df=pd.DataFrame({'note_concat' : note_selected_df.groupby('encounter_id')['note'].apply(lambda x: ' '.join(x))}).reset_index()"
   ]
  },
  {
   "cell_type": "code",
   "execution_count": null,
   "metadata": {},
   "outputs": [],
   "source": [
    "dill.dump(dx_selected_df, open('data/dx_selected_df.df', 'wb'))\n",
    "dill.dump(icd_des_selected_df, open('data/icd_des_selected_df.df', 'wb'))\n",
    "dill.dump(note_concat_df, open('data/note_concat_df.df', 'wb'))"
   ]
  },
  {
   "cell_type": "code",
   "execution_count": 14,
   "metadata": {},
   "outputs": [],
   "source": [
    "dx_selected_df = dill.load(open('data/dx_selected_df.df', 'rb'))\n",
    "icd_des_selected_df = dill.load(open('data/icd_des_selected_df.df', 'rb'))\n",
    "note_concat_df = dill.load(open('data/note_concat_df.df', 'rb'))"
   ]
  },
  {
   "cell_type": "code",
   "execution_count": null,
   "metadata": {},
   "outputs": [],
   "source": [
    "dx_selected_df.head()"
   ]
  },
  {
   "cell_type": "code",
   "execution_count": null,
   "metadata": {},
   "outputs": [],
   "source": [
    "icd_des_selected_df.head()"
   ]
  },
  {
   "cell_type": "code",
   "execution_count": null,
   "metadata": {},
   "outputs": [],
   "source": [
    "note_concat_df.head()"
   ]
  },
  {
   "cell_type": "markdown",
   "metadata": {},
   "source": [
    "## Some basic stats"
   ]
  },
  {
   "cell_type": "code",
   "execution_count": null,
   "metadata": {},
   "outputs": [],
   "source": [
    "dx_selected_df['encounter_id'].nunique()#45209 unique encounters"
   ]
  },
  {
   "cell_type": "code",
   "execution_count": null,
   "metadata": {},
   "outputs": [],
   "source": [
    "icd_des_selected_df['icd9'].nunique()#6416 unique icd9"
   ]
  },
  {
   "cell_type": "code",
   "execution_count": null,
   "metadata": {
    "scrolled": true
   },
   "outputs": [],
   "source": [
    "dx_freq_dict=dx_selected_df.groupby('icd9')['encounter_id'].nunique().sort_values(ascending=False).to_dict()\n",
    "dx_freq_dict"
   ]
  },
  {
   "cell_type": "code",
   "execution_count": null,
   "metadata": {},
   "outputs": [],
   "source": [
    "top_10_dx_list=sorted(dx_freq_dict, key=dx_freq_dict.get, reverse=True)[:10]\n",
    "top_10_dx_list"
   ]
  },
  {
   "cell_type": "markdown",
   "metadata": {},
   "source": [
    "## GBM model"
   ]
  },
  {
   "cell_type": "code",
   "execution_count": null,
   "metadata": {},
   "outputs": [],
   "source": [
    "dx_str='4019'"
   ]
  },
  {
   "cell_type": "code",
   "execution_count": null,
   "metadata": {},
   "outputs": [],
   "source": [
    "dx_des_str=icd_des_selected_df['icd_des'][icd_des_selected_df['icd9']==dx_str].to_string(index=False)\n",
    "dx_des_str"
   ]
  },
  {
   "cell_type": "code",
   "execution_count": null,
   "metadata": {},
   "outputs": [],
   "source": [
    "dx_des_ngram_list=CountVectorizer(ngram_range=(1,len(dx_des_str.split()))).fit([dx_des_str]).get_feature_names()"
   ]
  },
  {
   "cell_type": "code",
   "execution_count": null,
   "metadata": {
    "scrolled": true
   },
   "outputs": [],
   "source": [
    "data_df=pd.merge(note_concat_df,dx_selected_df[dx_selected_df['icd9']==dx_str],on='encounter_id',how='left')[['icd9','note_concat']]\n",
    "data_df['target']=1\n",
    "data_df.loc[data_df['icd9'].isnull(), 'target']=0\n",
    "data_df=data_df[['target','note_concat']]"
   ]
  },
  {
   "cell_type": "code",
   "execution_count": null,
   "metadata": {},
   "outputs": [],
   "source": [
    "X, y = data_df['note_concat'].tolist(), data_df['target'].values"
   ]
  },
  {
   "cell_type": "code",
   "execution_count": null,
   "metadata": {},
   "outputs": [],
   "source": [
    "init_prob_array[np.asarray(sub2_X_train_filter_list)]"
   ]
  },
  {
   "cell_type": "code",
   "execution_count": null,
   "metadata": {},
   "outputs": [],
   "source": [
    "dill.dump(X_train, open('data/X_train.train', 'wb'))\n",
    "dill.dump(X_valid, open('data/X_valid.valid', 'wb'))\n",
    "dill.dump(X_test, open('data/X_test.test', 'wb'))\n",
    "dill.dump(y_train, open('data/y_train.train', 'wb'))\n",
    "dill.dump(y_valid, open('data/y_valid.valid', 'wb'))\n",
    "dill.dump(y_test, open('data/y_test.test', 'wb'))"
   ]
  },
  {
   "cell_type": "code",
   "execution_count": 3,
   "metadata": {},
   "outputs": [],
   "source": [
    "X_train = dill.load(open('data/X_train.train', 'rb'))\n",
    "X_valid = dill.load(open('data/X_valid.valid', 'rb'))\n",
    "X_test = dill.load(open('data/X_test.test', 'rb'))\n",
    "y_train = dill.load(open('data/y_train.train', 'rb'))\n",
    "y_valid = dill.load(open('data/y_valid.valid', 'rb'))\n",
    "y_test = dill.load(open('data/y_test.test', 'rb'))"
   ]
  },
  {
   "cell_type": "code",
   "execution_count": null,
   "metadata": {},
   "outputs": [],
   "source": [
    "tfidf_transformer=TfidfVectorizer(vocabulary=dx_des_ngram_list)\n",
    "lgbm_X_train=tfidf_transformer.fit_transform(X_train)\n",
    "lgbm_X_valid=tfidf_transformer.fit_transform(X_valid)\n",
    "lgbm_X_test=tfidf_transformer.transform(X_test)\n",
    "lgbm_y_train=y_train\n",
    "lgbm_y_valid=y_valid\n",
    "lgbm_y_test=y_test"
   ]
  },
  {
   "cell_type": "code",
   "execution_count": null,
   "metadata": {},
   "outputs": [],
   "source": [
    "dill.dump(tfidf_transformer, open('model/4019_tfidf_transformer.fitted', 'wb'))"
   ]
  },
  {
   "cell_type": "code",
   "execution_count": 4,
   "metadata": {},
   "outputs": [],
   "source": [
    "tfidf_transformer = dill.load(open('model/4019_tfidf_transformer.fitted', 'rb'))"
   ]
  },
  {
   "cell_type": "code",
   "execution_count": null,
   "metadata": {},
   "outputs": [],
   "source": [
    "dill.dump(lgbm_X_train, open('data/lgbm_X_train.train', 'wb'))\n",
    "dill.dump(lgbm_X_valid, open('data/lgbm_X_valid.valid', 'wb'))\n",
    "dill.dump(lgbm_X_test, open('data/lgbm_X_test.test', 'wb'))\n",
    "dill.dump(lgbm_y_train, open('data/lgbm_y_train.train', 'wb'))\n",
    "dill.dump(lgbm_y_valid, open('data/lgbm_y_valid.valid', 'wb'))\n",
    "dill.dump(lgbm_y_test, open('data/lgbm_y_test.test', 'wb'))"
   ]
  },
  {
   "cell_type": "code",
   "execution_count": 5,
   "metadata": {},
   "outputs": [],
   "source": [
    "lgbm_X_train = dill.load(open('data/lgbm_X_train.train', 'rb'))\n",
    "lgbm_X_valid = dill.load(open('data/lgbm_X_valid.valid', 'rb'))\n",
    "lgbm_X_test = dill.load(open('data/lgbm_X_test.test', 'rb'))\n",
    "lgbm_y_train = dill.load(open('data/lgbm_y_train.train', 'rb'))\n",
    "lgbm_y_valid = dill.load(open('data/lgbm_y_valid.valid', 'rb'))\n",
    "lgbm_y_test = dill.load(open('data/lgbm_y_test.test', 'rb'))"
   ]
  },
  {
   "cell_type": "code",
   "execution_count": null,
   "metadata": {},
   "outputs": [],
   "source": [
    "lgbm_model=LGBMClassifier()\n",
    "lgbm_model.fit(lgbm_X_train,lgbm_y_train)"
   ]
  },
  {
   "cell_type": "code",
   "execution_count": null,
   "metadata": {},
   "outputs": [],
   "source": [
    "dill.dump(lgbm_model, open('model/lgbm_model.fitted', 'wb'))"
   ]
  },
  {
   "cell_type": "code",
   "execution_count": 6,
   "metadata": {},
   "outputs": [],
   "source": [
    "lgbm_model = dill.load(open('model/lgbm_model.fitted', 'rb'))"
   ]
  },
  {
   "cell_type": "code",
   "execution_count": null,
   "metadata": {},
   "outputs": [],
   "source": [
    "lgbm_pred_raw=lgbm_model.predict_proba(lgbm_X_test,raw_score=True)\n",
    "lgbm_pred_prob=lgbm_model.predict_proba(lgbm_X_test)[:, 1]\n",
    "lgbm_pred=lgbm_model.predict(lgbm_X_test)"
   ]
  },
  {
   "cell_type": "code",
   "execution_count": null,
   "metadata": {},
   "outputs": [],
   "source": [
    "cm=pd.DataFrame(confusion_matrix(lgbm_y_test, lgbm_pred).T)\n",
    "cm.rename(columns={0:'Actual negative DX',1:'Actual positive DX'},index={0:'Predicted negative DX',1:'Predicted positive DX'},inplace=True)\n",
    "cm"
   ]
  },
  {
   "cell_type": "code",
   "execution_count": null,
   "metadata": {},
   "outputs": [],
   "source": [
    "print(classification_report(lgbm_y_test, lgbm_pred, digits=3))"
   ]
  },
  {
   "cell_type": "code",
   "execution_count": null,
   "metadata": {},
   "outputs": [],
   "source": [
    "fpr, tpr, thresholds = roc_curve(lgbm_y_test, lgbm_pred_prob)\n",
    "\n",
    "plt.plot(fpr, tpr)\n",
    "plt.xlim([0.0, 1.0])\n",
    "plt.ylim([0.0, 1.0])\n",
    "plt.rcParams['font.size'] = 12\n",
    "plt.title('ROC curve for credit card defaulting classifier')\n",
    "plt.xlabel('False Positive Rate (1 - Specificity)')\n",
    "plt.grid(True)"
   ]
  },
  {
   "cell_type": "markdown",
   "metadata": {},
   "source": [
    "## One Layer NN with Local word embedding"
   ]
  },
  {
   "cell_type": "code",
   "execution_count": 12,
   "metadata": {},
   "outputs": [
    {
     "name": "stderr",
     "output_type": "stream",
     "text": [
      "C:\\ProgramData\\Anaconda3\\lib\\site-packages\\h5py\\__init__.py:36: FutureWarning: Conversion of the second argument of issubdtype from `float` to `np.floating` is deprecated. In future, it will be treated as `np.float64 == np.dtype(float).type`.\n",
      "  from ._conv import register_converters as _register_converters\n",
      "Using TensorFlow backend.\n"
     ]
    }
   ],
   "source": [
    "import math\n",
    "from collections import OrderedDict\n",
    "import keras.backend as K\n",
    "from keras.preprocessing.sequence import pad_sequences\n",
    "from keras.models import Sequential\n",
    "from keras import layers\n",
    "from keras.callbacks import EarlyStopping\n",
    "from keras.models import load_model\n",
    "from keras import optimizers\n",
    "import tensorflow as tf"
   ]
  },
  {
   "cell_type": "code",
   "execution_count": null,
   "metadata": {},
   "outputs": [],
   "source": [
    "tfidf2_transformer=TfidfVectorizer(min_df=0.1,max_features=5000)"
   ]
  },
  {
   "cell_type": "code",
   "execution_count": null,
   "metadata": {},
   "outputs": [],
   "source": [
    "tfidf2_array=tfidf2_transformer.fit_transform(X_train).toarray().sum(axis=0)"
   ]
  },
  {
   "cell_type": "code",
   "execution_count": null,
   "metadata": {},
   "outputs": [],
   "source": [
    "tfidf2_name_list=tfidf2_transformer.get_feature_names()"
   ]
  },
  {
   "cell_type": "code",
   "execution_count": null,
   "metadata": {},
   "outputs": [],
   "source": [
    "tfidf2_dict=OrderedDict(sorted(zip(tfidf2_name_list,tfidf2_array),key=lambda pair: pair[1],reverse=True))"
   ]
  },
  {
   "cell_type": "code",
   "execution_count": null,
   "metadata": {},
   "outputs": [],
   "source": [
    "dill.dump(tfidf2_dict, open('data/tfidf2_dict.dict', 'wb'))"
   ]
  },
  {
   "cell_type": "code",
   "execution_count": 13,
   "metadata": {},
   "outputs": [],
   "source": [
    "tfidf2_dict = dill.load(open('data/tfidf2_dict.dict', 'rb'))"
   ]
  },
  {
   "cell_type": "code",
   "execution_count": null,
   "metadata": {},
   "outputs": [],
   "source": [
    "nn_unpadded_X_train=[[tfidf2_dict[word] for word in note.split() if word in tfidf2_dict.keys()] for note in X_train]\n",
    "nn_unpadded_X_valid=[[tfidf2_dict[word] for word in note.split() if word in tfidf2_dict.keys()] for note in X_valid]\n",
    "nn_unpadded_X_test=[[tfidf2_dict[word] for word in note.split() if word in tfidf2_dict.keys()] for note in X_test]"
   ]
  },
  {
   "cell_type": "code",
   "execution_count": null,
   "metadata": {},
   "outputs": [],
   "source": [
    "nn_unpadded_X_train_len_list=[len(i) for i in nn_unpadded_X_train]"
   ]
  },
  {
   "cell_type": "code",
   "execution_count": null,
   "metadata": {},
   "outputs": [],
   "source": [
    "data = np.asarray([i for i in nn_unpadded_X_train_len_list if i<=np.percentile(nn_unpadded_X_train_len_list,75)])\n",
    "bins = np.linspace(math.ceil(min(data)), \n",
    "                   math.floor(max(data)),\n",
    "                   20) # fixed number of bins\n",
    "\n",
    "plt.xlim([min(data)-5, max(data)+5])\n",
    "\n",
    "plt.hist(data, bins=bins, alpha=0.5)\n",
    "plt.title('Random Gaussian data (fixed number of bins)')\n",
    "plt.xlabel('variable X (20 evenly spaced bins)')\n",
    "plt.ylabel('count')\n",
    "\n",
    "plt.show()"
   ]
  },
  {
   "cell_type": "code",
   "execution_count": null,
   "metadata": {},
   "outputs": [],
   "source": [
    "data = np.asarray([i for i in nn_unpadded_X_train_len_list if\n",
    "                   i>np.percentile(nn_unpadded_X_train_len_list,75)])\n",
    "bins = np.linspace(math.ceil(min(data)), \n",
    "                   math.floor(max(data)),\n",
    "                   20) # fixed number of bins\n",
    "\n",
    "plt.xlim([min(data)-5, max(data)+5])\n",
    "\n",
    "plt.hist(data, bins=bins, alpha=0.5)\n",
    "plt.title('Random Gaussian data (fixed number of bins)')\n",
    "plt.xlabel('variable X (20 evenly spaced bins)')\n",
    "plt.ylabel('count')\n",
    "\n",
    "plt.show()"
   ]
  },
  {
   "cell_type": "code",
   "execution_count": null,
   "metadata": {},
   "outputs": [],
   "source": [
    "print(sum([i<500 for i in nn_unpadded_X_train_len_list])/len(nn_unpadded_X_train_len_list))\n",
    "print(sum([i<2000 for i in nn_unpadded_X_train_len_list])/len(nn_unpadded_X_train_len_list))"
   ]
  },
  {
   "cell_type": "code",
   "execution_count": 5,
   "metadata": {},
   "outputs": [],
   "source": [
    "maxlen=2000\n",
    "minlen=500"
   ]
  },
  {
   "cell_type": "code",
   "execution_count": null,
   "metadata": {},
   "outputs": [],
   "source": [
    "nn_sub2_X_train_filter_list=[len(note)>minlen and len(note)<=maxlen for note in nn_unpadded_X_train]\n",
    "nn_sub2_X_valid_filter_list=[len(note)>minlen and len(note)<=maxlen for note in nn_unpadded_X_valid]\n",
    "nn_sub2_X_test_filter_list=[len(note)>minlen and len(note)<=maxlen for note in nn_unpadded_X_test]"
   ]
  },
  {
   "cell_type": "code",
   "execution_count": null,
   "metadata": {},
   "outputs": [],
   "source": [
    "nn_unpadded_sub2_X_train=[x for x, y in zip(nn_unpadded_X_train, nn_sub2_X_train_filter_list) if y == True]\n",
    "nn_unpadded_sub2_X_valid=[x for x, y in zip(nn_unpadded_X_valid, nn_sub2_X_valid_filter_list) if y == True]\n",
    "nn_unpadded_sub2_X_test=[x for x, y in zip(nn_unpadded_X_test, nn_sub2_X_test_filter_list) if y == True]"
   ]
  },
  {
   "cell_type": "code",
   "execution_count": null,
   "metadata": {},
   "outputs": [],
   "source": [
    "nn_sub2_X_train=pad_sequences(nn_unpadded_sub2_X_train, dtype='float32', padding='post', maxlen=maxlen)\n",
    "nn_sub2_X_valid=pad_sequences(nn_unpadded_sub2_X_valid, dtype='float32', padding='post', maxlen=maxlen)\n",
    "nn_sub2_X_test=pad_sequences(nn_unpadded_sub2_X_test, dtype='float32', padding='post', maxlen=maxlen)"
   ]
  },
  {
   "cell_type": "code",
   "execution_count": null,
   "metadata": {},
   "outputs": [],
   "source": [
    "nn_y_train=y_train-lgbm_model.predict_proba(lgbm_X_train)[:,1]\n",
    "nn_y_valid=y_valid-lgbm_model.predict_proba(lgbm_X_valid)[:,1]\n",
    "nn_y_test=y_test-lgbm_model.predict_proba(lgbm_X_test)[:,1]"
   ]
  },
  {
   "cell_type": "code",
   "execution_count": null,
   "metadata": {},
   "outputs": [],
   "source": [
    "nn_sub2_y_train=nn_y_train[np.asarray(nn_sub2_X_train_filter_list)]\n",
    "nn_sub2_y_valid=nn_y_valid[np.asarray(nn_sub2_X_valid_filter_list)]\n",
    "nn_sub2_y_test=nn_y_test[np.asarray(nn_sub2_X_test_filter_list)]"
   ]
  },
  {
   "cell_type": "code",
   "execution_count": null,
   "metadata": {},
   "outputs": [],
   "source": [
    "dill.dump(nn_sub2_X_train, open('data/nn_sub2_X_train.train', 'wb'))\n",
    "dill.dump(nn_sub2_X_valid, open('data/nn_sub2_X_valid.valid', 'wb'))\n",
    "dill.dump(nn_sub2_X_test, open('data/nn_sub2_X_test.test', 'wb'))\n",
    "dill.dump(nn_sub2_y_train, open('data/nn_sub2_y_train.train', 'wb'))\n",
    "dill.dump(nn_sub2_y_valid, open('data/nn_sub2_y_valid.valid', 'wb'))\n",
    "dill.dump(nn_sub2_y_test, open('data/nn_sub2_y_test.test', 'wb'))"
   ]
  },
  {
   "cell_type": "code",
   "execution_count": 19,
   "metadata": {},
   "outputs": [],
   "source": [
    "nn_sub2_X_train = dill.load(open('data/nn_sub2_X_train.train', 'rb'))\n",
    "nn_sub2_X_valid = dill.load(open('data/nn_sub2_X_valid.valid', 'rb'))\n",
    "nn_sub2_X_test = dill.load(open('data/nn_sub2_X_test.test', 'rb'))\n",
    "nn_sub2_y_train = dill.load(open('data/nn_sub2_y_train.train', 'rb'))\n",
    "nn_sub2_y_valid = dill.load(open('data/nn_sub2_y_valid.valid', 'rb'))\n",
    "nn_sub2_y_test = dill.load(open('data/nn_sub2_y_test.test', 'rb'))"
   ]
  },
  {
   "cell_type": "code",
   "execution_count": 151,
   "metadata": {},
   "outputs": [
    {
     "name": "stdout",
     "output_type": "stream",
     "text": [
      "_________________________________________________________________\n",
      "Layer (type)                 Output Shape              Param #   \n",
      "=================================================================\n",
      "embedding_6 (Embedding)      (None, 2000, 1000)        6597000   \n",
      "_________________________________________________________________\n",
      "global_max_pooling1d_6 (Glob (None, 1000)              0         \n",
      "_________________________________________________________________\n",
      "dense_60 (Dense)             (None, 100)               100100    \n",
      "_________________________________________________________________\n",
      "dense_61 (Dense)             (None, 1)                 101       \n",
      "=================================================================\n",
      "Total params: 6,697,201\n",
      "Trainable params: 6,697,201\n",
      "Non-trainable params: 0\n",
      "_________________________________________________________________\n"
     ]
    }
   ],
   "source": [
    "vocabulary_dim=int(round(max(tfidf2_dict.values())))+1#6597\n",
    "embedding_dim=1000\n",
    "doc_len=maxlen#2000\n",
    "\n",
    "nn_model = Sequential()\n",
    "nn_model.add(layers.Embedding(input_dim=vocabulary_dim,\n",
    "                              output_dim=embedding_dim, \n",
    "                              input_length=doc_len))\n",
    "nn_model.add(layers.GlobalMaxPool1D())\n",
    "nn_model.add(layers.Dense(100, activation='relu'))\n",
    "nn_model.add(layers.Dense(1, activation='linear'))\n",
    "nn_model.compile(optimizer=optimizers.Adam(lr=0.01),\n",
    "              loss='mean_absolute_error',\n",
    "              metrics=['mae'])\n",
    "nn_model.summary()"
   ]
  },
  {
   "cell_type": "code",
   "execution_count": 162,
   "metadata": {
    "scrolled": true
   },
   "outputs": [
    {
     "name": "stdout",
     "output_type": "stream",
     "text": [
      "Train on 13057 samples, validate on 3315 samples\n",
      "Epoch 1/5\n",
      "13057/13057 [==============================] - 1107s 85ms/step - loss: 0.3772 - mean_absolute_error: 0.3772 - val_loss: 0.3854 - val_mean_absolute_error: 0.3854\n",
      "Epoch 2/5\n",
      "13057/13057 [==============================] - 1113s 85ms/step - loss: 0.4178 - mean_absolute_error: 0.4178 - val_loss: 0.4019 - val_mean_absolute_error: 0.4019\n",
      "Epoch 3/5\n",
      "13057/13057 [==============================] - 1103s 84ms/step - loss: 0.3996 - mean_absolute_error: 0.3996 - val_loss: 0.4202 - val_mean_absolute_error: 0.4202\n",
      "Epoch 4/5\n",
      "13057/13057 [==============================] - 1088s 83ms/step - loss: 0.3842 - mean_absolute_error: 0.3842 - val_loss: 0.3914 - val_mean_absolute_error: 0.3914\n",
      "Epoch 5/5\n",
      "13057/13057 [==============================] - 1111s 85ms/step - loss: 0.3813 - mean_absolute_error: 0.3813 - val_loss: 0.3933 - val_mean_absolute_error: 0.3933\n"
     ]
    }
   ],
   "source": [
    "es = EarlyStopping(monitor='mean_absolute_error', min_delta=0.001, mode='min', verbose=1, patience=2)\n",
    "\n",
    "nn_model_fit_result = nn_model.fit(nn_sub2_X_train, nn_sub2_y_train,\n",
    "                                   epochs=5,\n",
    "                                   verbose=True,\n",
    "                                   validation_data=(nn_sub2_X_valid, nn_sub2_y_valid),\n",
    "                                   batch_size=100)"
   ]
  },
  {
   "cell_type": "code",
   "execution_count": 153,
   "metadata": {},
   "outputs": [],
   "source": [
    "nn_model.save('model/nn_model_fitted.h5')"
   ]
  },
  {
   "cell_type": "code",
   "execution_count": null,
   "metadata": {
    "scrolled": true
   },
   "outputs": [],
   "source": [
    "nn_model=load_model('model/nn_model_fitted.h5')"
   ]
  },
  {
   "cell_type": "code",
   "execution_count": 165,
   "metadata": {},
   "outputs": [],
   "source": [
    "plt.style.use('ggplot')\n",
    "\n",
    "def plot_model_fit_result(model_fit_result):\n",
    "    acc = model_fit_result.history['mean_absolute_error']\n",
    "    val_acc = model_fit_result.history['val_mean_absolute_error']\n",
    "    loss = model_fit_result.history['loss']\n",
    "    val_loss = model_fit_result.history['val_loss']\n",
    "    x = range(1, len(acc) + 1)\n",
    "\n",
    "    plt.figure(figsize=(12, 5))\n",
    "    plt.subplot(1, 2, 1)\n",
    "    plt.plot(x, acc, 'b', label='Training mae')\n",
    "    plt.plot(x, val_acc, 'r', label='Validation mae')\n",
    "    plt.title('Training and validation accuracy')\n",
    "    plt.legend()\n",
    "    plt.subplot(1, 2, 2)\n",
    "    plt.plot(x, loss, 'b', label='Training loss')\n",
    "    plt.plot(x, val_loss, 'r', label='Validation loss')\n",
    "    plt.title('Training and validation loss')\n",
    "    plt.legend()"
   ]
  },
  {
   "cell_type": "code",
   "execution_count": 156,
   "metadata": {},
   "outputs": [
    {
     "ename": "NameError",
     "evalue": "name 'nn_X_train' is not defined",
     "output_type": "error",
     "traceback": [
      "\u001b[1;31m---------------------------------------------------------------------------\u001b[0m",
      "\u001b[1;31mNameError\u001b[0m                                 Traceback (most recent call last)",
      "\u001b[1;32m<ipython-input-156-123114657b56>\u001b[0m in \u001b[0;36m<module>\u001b[1;34m()\u001b[0m\n\u001b[1;32m----> 1\u001b[1;33m \u001b[0mloss\u001b[0m\u001b[1;33m,\u001b[0m \u001b[0maccuracy\u001b[0m \u001b[1;33m=\u001b[0m \u001b[0mnn_model\u001b[0m\u001b[1;33m.\u001b[0m\u001b[0mevaluate\u001b[0m\u001b[1;33m(\u001b[0m\u001b[0mnn_X_train\u001b[0m\u001b[1;33m,\u001b[0m \u001b[0mnn_y_train\u001b[0m\u001b[1;33m,\u001b[0m \u001b[0mverbose\u001b[0m\u001b[1;33m=\u001b[0m\u001b[1;32mFalse\u001b[0m\u001b[1;33m)\u001b[0m\u001b[1;33m\u001b[0m\u001b[0m\n\u001b[0m\u001b[0;32m      2\u001b[0m \u001b[0mprint\u001b[0m\u001b[1;33m(\u001b[0m\u001b[1;34m\"Training Accuracy: {:.4f}\"\u001b[0m\u001b[1;33m.\u001b[0m\u001b[0mformat\u001b[0m\u001b[1;33m(\u001b[0m\u001b[0maccuracy\u001b[0m\u001b[1;33m)\u001b[0m\u001b[1;33m)\u001b[0m\u001b[1;33m\u001b[0m\u001b[0m\n\u001b[0;32m      3\u001b[0m \u001b[0mloss\u001b[0m\u001b[1;33m,\u001b[0m \u001b[0maccuracy\u001b[0m \u001b[1;33m=\u001b[0m \u001b[0mnn_model\u001b[0m\u001b[1;33m.\u001b[0m\u001b[0mevaluate\u001b[0m\u001b[1;33m(\u001b[0m\u001b[0mnn_X_test\u001b[0m\u001b[1;33m,\u001b[0m \u001b[0mnn_y_test\u001b[0m\u001b[1;33m,\u001b[0m \u001b[0mverbose\u001b[0m\u001b[1;33m=\u001b[0m\u001b[1;32mFalse\u001b[0m\u001b[1;33m)\u001b[0m\u001b[1;33m\u001b[0m\u001b[0m\n\u001b[0;32m      4\u001b[0m \u001b[0mprint\u001b[0m\u001b[1;33m(\u001b[0m\u001b[1;34m\"Testing Accuracy:  {:.4f}\"\u001b[0m\u001b[1;33m.\u001b[0m\u001b[0mformat\u001b[0m\u001b[1;33m(\u001b[0m\u001b[0maccuracy\u001b[0m\u001b[1;33m)\u001b[0m\u001b[1;33m)\u001b[0m\u001b[1;33m\u001b[0m\u001b[0m\n\u001b[0;32m      5\u001b[0m \u001b[0mplot_model_fit_result\u001b[0m\u001b[1;33m(\u001b[0m\u001b[0mnn_model_fit_result\u001b[0m\u001b[1;33m)\u001b[0m\u001b[1;33m\u001b[0m\u001b[0m\n",
      "\u001b[1;31mNameError\u001b[0m: name 'nn_X_train' is not defined"
     ]
    }
   ],
   "source": [
    "loss, accuracy = nn_model.evaluate(nn_X_train, nn_y_train, verbose=False)\n",
    "print(\"Training Accuracy: {:.4f}\".format(accuracy))\n",
    "loss, accuracy = nn_model.evaluate(nn_X_test, nn_y_test, verbose=False)\n",
    "print(\"Testing Accuracy:  {:.4f}\".format(accuracy))\n",
    "plot_model_fit_result(nn_model_fit_result)"
   ]
  },
  {
   "cell_type": "markdown",
   "metadata": {},
   "source": [
    "plot_model_fit_result(nn_model_fit_result)"
   ]
  },
  {
   "cell_type": "code",
   "execution_count": 166,
   "metadata": {},
   "outputs": [
    {
     "data": {
      "image/png": "[encoded data removed]",
      "text/plain": [
       "<matplotlib.figure.Figure at 0x71f50908>"
      ]
     },
     "metadata": {},
     "output_type": "display_data"
    }
   ],
   "source": [
    "plot_model_fit_result(nn_model_fit_result)"
   ]
  },
  {
   "cell_type": "markdown",
   "metadata": {},
   "source": [
    "## Predict"
   ]
  },
  {
   "cell_type": "code",
   "execution_count": 48,
   "metadata": {},
   "outputs": [
    {
     "data": {
      "text/plain": [
       "array([1, 0, 0, 1, 1, 0, 0, 1, 1, 1], dtype=int64)"
      ]
     },
     "execution_count": 48,
     "metadata": {},
     "output_type": "execute_result"
    }
   ],
   "source": [
    "y_train[:10]"
   ]
  },
  {
   "cell_type": "code",
   "execution_count": 462,
   "metadata": {
    "scrolled": true
   },
   "outputs": [
    {
     "data": {
      "text/plain": [
       "\"Admission Date:                Discharge Date:   Date of Birth:               Sex:   MService: NEUROSURGERYAllergies:Patient recorded as having No Known Allergies to DrugsAttending:Chief Complaint:struck in the back of the headMajor Surgical or Invasive Procedure::Left temporal craniotomy and evacuation ofepidural hematoma.History of Present Illness:21 year-old man who was witnessed to be struck in the back ofthe head by an unidentified object in earlierthis morning (roughly 1.5 hours ago). Patient then fellbackward, striking the occiput. EMS was called and he was foundsupine on the ground. EMS trip sheet not available and initialexamination unclear.Past Medical History:unknown at presentSocial History:only child / mother and stepfather from  / he is asenior .Family History:unknownPhysical Exam:PHYSICAL EXAM:O: T: F BP: 105/75   HR: 80   R: 14  O2Sats: 100%Gen: Lying in bed with eyes closed.HEENT: Scalp laceration over occiput oozing blood.Neck: In hard collar.Lungs: CTA bilaterally.Cardiac: RRR. S1/S2.Abd: Soft, NT, BS+Extrem: Warm and well-perfused.Neuro:Mental status (off sedation): Does not open eyes to command orfollow commands.Cranial Nerves:I: Not testedII: Pupils equally round and reactive to light, 5 to3mm bilaterally.III, IV, VI: Gaze is dysconjugate with slight lateral deviationof the left eye. Unable to perform Doll's eyes maneuver due tohard collar.V, VII: Grimaces in response to supraorbital stimulation. Noovert facial droop (though somewhat obscured by ETT).Motor: Withdraws to noxious stimulation throughout. No abnormalmovements noted.Sensation: As above, withdraws to noxious stimulationthroughout.Reflexes: B T Br Pa AcRight     1 1  1  1  1Left      1 1  1  1  1Toes mute bilaterallyPertinent Results:Cardiology Report ECG Study Date of   4:07:40 AM Sinus bradycardia. Modest early repolarization changes. Noprevious tracing available for comparison.CT C-SPINE W/O CONTRAST SAT  5:29 AMIMPRESSION:1. No fracture identified.2. Relative narrowing of the C6-7 spinous processes interspacewith relative widening of the anterior intervertebral disc spaceat this level may be positional.CT HEAD W/O CONTRAST  3:12 AM 1. Non-displaced fracture of the squamous part of the lefttemporal bone.  2. Left extra-axial collection, likely epidural hematoma.  3. Right extra-axial blood, most likely subarachnoidhemorrhage and/orsubdural hematoma. CHEST (PORTABLE AP)  3:37 AM1. ET tube terminating 6 cm above the carina.2. The NG tube is high, terminating at the level of thediaphragm and should be advanced. This was discussed with Dr.  at 5:05am on .3. Clear lungs. CT HEAD W/O CONTRAST  8:05 AM1. Marked increase in size of the left epidural hematomaoverlying the left temporal lobe, with new uncal herniation andincrease in rightward subfalcine herniation.2. No interval change in additional foci of extra-axial hematomaoverlyingthe right temporal lobe, likely also reflecting areas ofepidural hematoma. CT L-SPINE W/O CONTRAST   8:06 AMIMPRESSION: No fracture or malalignment. CT T-SPINE W/O CONTRAST   8:06 AMNo evidence of fracture or malalignment.CT HEAD W/O CONTRAST   6:04 PM1. No interval change in residual left temporal epiduralhematoma, statuspost partial evacuation compared to examination from six hoursprior. 2. No overt interval change of multiple small foci ofextra-axial hematomas overlying the right frontal lobe which mayalso reflect smaller areas of epidural hematoma. 3. Persistent mild shift of normally midline structures to theright of 3 mm.CT HEAD W/O CONTRAST  8:34 AM1. Status post left temporal craniotomy with stable appearanceof thebilateral extra-axial temporal hemorrhage and the right frontalextra-axial hemorrhage.2. Interval improvement in the left uncal herniation. Unchangedsubfalcineherniation.Brief Hospital Course:Pt was admitted through the emergency room after TBI on  inthe early morning. Repeat CT scan of the brain showed intervalincrease in the size of EDH.  He was taken to the OR emergentlyfor evacuation.  His operative and post-operative periods werewithout event.  He was returned to the ICU where he was laterextubated.  He was placed on Dilantin on arrival for szprophylaxis. His neuro status was monitroed closely.  He wasplaced on one to one observation for safety as he was found tobe impulsive and combative after exutbation.Serial CT scans demonstrated postoperative changes with gooddecompression of EDH.He was transferred to step down on .  He was advanced inhis diet and activity and seen and evaluated by PT and OT andrecommended for acute rehab. His incision was clean and dry. Hecontinued on pain medication for incisional pain/headache. Dietwas advanced.Medications on Admission:unknownDischarge Medications:1. LeVETiracetam 1,000 mg Tablet Sig: One (1) Tablet PO BID (2times a day).2. Famotidine 20 mg Tablet Sig: One (1) Tablet PO BID (2 times aday).3. Oxycodone-Acetaminophen 5-325 mg Tablet Sig: 1-2 Tablets PO Q4-6 HOURS PRN () as needed for pain.Discharge Disposition:Extended CareFacility: - Discharge Diagnosis:Left Temporal EDH.Discharge Condition:stableDischarge Instructions:General Instructions??????\\tHave your incision checked daily for signs of infection.??????\\tTake your pain medicine as prescribed.??????\\tExercise should be limited to walking; no lifting, straining,or excessive bending.??????\\tYou may wash your hair only after staples have been removed.??????\\tYou may shower before this time using a shower cap to coveryour head.??????\\tIncrease your intake of fluids and fiber, as narcotic painmedicine can cause constipation. We generally recommend takingan over the counter stool softener, such as Docusate (Colace)while taking narcotic pain medication.??????\\tUnless directed by your doctor, do not take anyanti-inflammatory medicines such as Motrin, Aspirin, Advil, andIbuprofen for 1 month??????\\tYou have been prescribed keppra(Levetiracetam),  foranti-seizure medicine, you will not require blood workmonitoring.??????\\tClearance to drive and return to work will be addressed atyour post-operative office visit.??????\\tMake sure to continue to use your incentive spirometer.CALL YOUR SURGEON IMMEDIATELY IF YOU EXPERIENCE ANY OF THEFOLLOWING??????\\tNew onset of tremors or seizures.??????\\tAny confusion or change in mental status.??????\\tAny numbness, tingling, weakness in your extremities.??????\\tPain or headache that is continually increasing, or notrelieved by pain medication.??????\\tAny signs of infection at the wound site: redness, swelling,tenderness, or drainage.??????\\tFever greater than or equal to 101?????? F.Followup Instructions:Follow-Up Appointment Instructions??????Please return to the office in  days, from your date ofsurgery, for removal of your staples or they can be removed atthe .??????Please call ( to schedule an appointment with Dr., to be seen in 4 weeks.??????You will need a CT scan of the brain without contrast.??????You will not need an MRI of the brain.Completed by: Sinus bradycardia.  Modest early repolarization changes.  No previous tracingavailable for comparison. Altered mental status (not Delirium)   Assessment:   Action:   Response:   Plan:   Trauma, s/p   Assessment:   Action:   Response:   Plan: IMPRESSION:   1. Status post left temporal craniotomy with stable appearance of the   bilateral extra-axial temporal hemorrhage and the right frontal   extra-axial   hemorrhage.   2. Interval improvement in the left uncal herniation. Unchanged   subfalcine   herniation.   Altered mental status (not Delirium)   Assessment:   Action:   Response:   Plan:   Trauma, s/p   Assessment:   Action:   Response:   Plan: 21yr male found down in  square, pt found obtunded. Pt noted to   have a 3-5cm laceration to the left temporal area and the CT of the   head showed left temporal bone fracture with adjacent epidural   hematoma, and small right temporal SAH or SAH.   IMPRESSION:   1. Status post left temporal craniotomy with stable appearance of the   bilateral extra-axial temporal hemorrhage and the right frontal   extra-axial   hemorrhage.   2. Interval improvement in the left uncal herniation. Unchanged   subfalcine   herniation.   Altered mental status (not Delirium)   Assessment:   Action:   Response:   Plan:   Trauma, s/p   Assessment:   Action:   Response:   Plan: TSICU   HPI:   21M s/p alleged assault, struck by object to back of head, fell to   ground striking back of head, + transferred to , +ETOH, found   to have left temporal fracture and EDH as well as small right SDH/SAH.   Exam notable for dysconjugate gaze, likely lateral rectus palsy on the   left. Exam otherwise non-localizing.   Chief complaint:   trauma   PMHx:   Unknown   Current medications:   dilantin, propofol, ancef, fenatanyl, famotidine   24 Hour Events: OR SENT - At  08:45 AM   to OR from CT OR RECEIVED - At  11:05 AM   R craniotomy w/ burr holes ARTERIAL LINE - START  11:20 AM ARTERIAL LINE - STOP  08:45    transferred to TICU for management of SDH/SAH, temporal bone fracture,   intubated/sedated. Repeat head CT revealed enlarging epidural hematoma,   taken emergently to OR for craniotomy with hematoma evacuation.   Post operative day:   POD#1 - R craniotomy w/ burr hole placement   Allergies:   No Known Drug Allergies   Last dose of Antibiotics:   Cefazolin -  02:13 AM   Infusions:   Propofol - 50 mcg/Kg/min   Other ICU medications:   Metoprolol -  08:15 PM   Famotidine (Pepcid) -  12:14 AM   Dilantin -  04:16 AM   Fentanyl -  05:10 AM   Other medications:   Flowsheet Data as of   05:17 AM   Vital signs   Hemodynamic monitoring   Fluid balance                                                                  24 hours                                                             Since  a.m.   Tmax: 37.8C (100.1   T current: 37.8C (100.1   HR: 82 (70 - 100) bpm   BP: 142/82(97) {119/60(74) - 160/96(109)} mmHg   RR: 16 (14 - 24) insp/min   SPO2: 100%   Heart rhythm: SR (Sinus Rhythm)   Wgt (current): 85.5 kg (admission): 85.5 kg             Total In:                                                                  3,038 mL                                                                    646 mL   PO:             Tube feeding:   IV Fluid:                                                                  1,538 mL                                                                    646 mL   Blood products:                                                                  1,500 mL   Total out:                                                                  2,920 mL                                                                    545 mL   Urine:                                                                  1,810 mL                                                                    485 mL   NG:   Stool:   Drains:                                                                    110 mL                                                                     60 mL   Balance:                                                                    118 mL                                                                    101 mL   Respiratory support   O2 Delivery Device: Endotracheal tube   Ventilator mode: CMV/ASSIST   Vt (Set): 600 (600 - 600) mL   PS : 5 cmH2O   RR (Set): 16   RR (Spontaneous): 0   PEEP: 5 cmH2O   FiO2: 50%   PIP: 18 cmH2O   Plateau: 13 cmH2O   Compliance: 75 cmH2O/mL   SPO2: 100%   ABG: 7.39/37/508/28/-1   Ve: 8.7 L/min   PaO2 / FiO2: 1,016   Physical Examination   General Appearance: No acute distress   HEENT: PERRL, EOMI   Cardiovascular: (Rhythm: Regular)   Respiratory / Chest: (Expansion: Symmetric), (Breath Sounds: CTA   bilateral : ), (Sternum: Stable )   Abdominal: Soft, Non-distended, Non-tender, Bowel sounds present   Left Extremities: (Edema: Absent), (Temperature: Warm), (Pulse -   Dorsalis pedis: Present), (Pulse - Posterior tibial: Present)   Right Extremities: (Edema: Absent), (Temperature: Warm), (Pulse -   Dorsalis pedis: Present), (Pulse - Posterior tibial: Present)   Skin: (Incision: Clean / Dry / Intact)   Neurologic: Follows simple commands, Moves all extremities, Sedated   Labs / Radiology   208 K/uL   12.9 g/dL   82 mg/dL   0.9 mg/dL   28 mEq/L   4.2 mEq/L   8 mg/dL   105 mEq/L   143 mEq/L   36.6 %   11.8 K/uL                                      10:40 AM                              12:12 PM                              12:26 PM                              01:58 AM   WBC   11.3   11.8   Hct   41   36.2   36.6   Plt   238   208   Creatinine   0.7   0.9   TCO2   22   23   Glucose   100   97   82   Other labs: PT / PTT / INR:13.4/30.3/1.2, Lactic Acid:3.8 mmol/L,   Ca:8.9 mg/dL, Mg:2.0 mg/dL, PO4:3.5 mg/dL   Assessment and Plan   TRAUMA, S/P   Assessment and Plan: 21M s/p ?assault, struck by object to back of   head, fall to ground striking back of head on ground, +LOC. Right   SDH/SAH, left temporal bone fracture.   Neurologic: Neuro checks Q: 1 hr, Pain controlled, intubated/ sedated,   wean propofol, dilantin loaded, s/p craniotomy with epidural hematoma   evacuation, follows commands. Very agitated, will bridge to extubation   with precedex.   Cardiovascular: Stable   Pulmonary: Spontaneous breathing trial, liberate from vent as tolerated   Gastrointestinal / Abdomen: Stable   Nutrition: NPO   Renal: Foley, Adequate UO   Hematology: Stable   Endocrine: RISS   Infectious Disease: Afebrile, DC Ancef   Lines / Tubes / Drains: Foley, OGT, ETT   Wounds: Dry dressings   Imaging: CT scan head today   Fluids: NS, NS@80   Consults: Neuro surgery   Billing Diagnosis: (Hemorrhage, NOS), Multiple injuries (Trauma)   ICU Care   Nutrition:   Glycemic Control:  Regular insulin sliding scale   Lines:   18 Gauge -  06:56 AM   16 Gauge -  06:56 AM   Prophylaxis:   DVT: Boots   Stress ulcer: H2 blocker   VAP bundle: HOB elevation, Mouth care, Daily wake up, RSBI   Comments:   Communication: Patient discussed on interdisciplinary rounds , ICU   Code status: Full code   Disposition: ICU   Total time spent: 35 minutes   Patient is critically ill 21yr male found down in  square, pt found obtunded. Pt noted to   have a 3-5cm laceration to the left temporal area and the CT of the   head showed left temporal bone fracture with adjacent epidural   hematoma, and small right temporal SAH or SAH.   Trauma, s/p   Assessment:   Expanding epidural hematoma   Action:   Pt taken emergently to OR for left craniotomy and burr holes for   epidural bleed. Q1 hr neuro checks. Pt sedated on propfol and fentanyl   given for pain.   Response:   Repeate  head Ct improved per Dr..   Plan:   Wean vent as tol, possibly extubated in am, follow up CT in AM. Trauma, s/p   Assessment:   Epidural bleed increased   Action:   Pt taken emergently to OR for left craniotomy and burr holes for   epidural bleed. Q1 hr neuro checks.   Response:   Repeate  head Ct improved per Dr..   Plan: Demographics   Day of intubation:   Day of mechanical ventilation: 0   Ideal body weight: 0 None   Ideal tidal volume: 0 / 0 / 0 mL/kg   Airway   Airway Placement Data   Known difficult intubation: Unknown   Procedure location:   Reason:   Tube Type   ETT:                   Position:  cm at teeth                   Route:                   Type: Standard                   Size: 7.5mm   Tracheostomy tube:                   Type:                   Manufacturer:                   Size:                   PMV:   Cuff  Management:                   Vol/Press:                                   Cuff pressure:   cmH2O                                   Cuff volume:   mL /                   Airway problems:                   Comments:   Lung sounds   RLL Lung Sounds: Clear   RUL Lung Sounds: Clear   LUL Lung Sounds: Clear   LLL Lung Sounds: Clear   Comments:   Secretions   Sputum color / consistency:  /   Sputum source/amount:  /   Comments:   Ventilation Assessment   Level of breathing assistance:   Visual assessment of breathing pattern:   Assessment of breathing comfort:   Non-invasive ventilation assessment:   Invasive ventilation assessment:   Trigger work assessment:   Dysynchrony assessment:   Comments:   Plan   Next 24-48 hours:   Reason for continuing current ventilatory support:   Respiratory Care Shift Procedures   Transports:   Destination (R/T)   Time   Complications   Comments   Bedside Procedures:   Comments: pt received on full vent support.  PSV not tolerated with   several attempts.  Pt unable to perform RSBI this morning d/t decreased   VT. TSICU   HPI:   21M s/p alleged assault, struck by object to back of head, fell to   ground striking back of head, + transferred to , +ETOH, found   to have left temporal fracture and EDH as well as small right SDH/SAH.   Exam notable for dysconjugate gaze, likely lateral rectus palsy on the   left. Exam otherwise non-localizing.   Chief complaint:   trauma   PMHx:   Unknown   Current medications:   dilantin, propofol, ancef, fenatanyl, famotidine   24 Hour Events: OR SENT - At  08:45 AM   to OR from CT OR RECEIVED - At  11:05 AM   R craniotomy w/ burr holes ARTERIAL LINE - START  11:20 AM ARTERIAL LINE - STOP  08:45    transferred to TICU for management of SDH/SAH, temporal bone fracture,   intubated/sedated. Repeat head CT revealed enlarging epidural hematoma,   taken emergently to OR for craniotomy with hematoma evacuation.   Post operative day:   POD#1 - R craniotomy w/ burr hole placement   Allergies:   No Known Drug Allergies   Last dose of Antibiotics:   Cefazolin -  02:13 AM   Infusions:   Propofol - 50 mcg/Kg/min   Other ICU medications:   Metoprolol -  08:15 PM   Famotidine (Pepcid) -  12:14 AM   Dilantin -  04:16 AM   Fentanyl -  05:10 AM   Other medications:   Flowsheet Data as of   05:17 AM   Vital signs   Hemodynamic monitoring   Fluid balance                                                                  24 hours                                                             Since  a.m.   Tmax: 37.8C (100.1   T current: 37.8C (100.1   HR: 82 (70 - 100) bpm   BP: 142/82(97) {119/60(74) - 160/96(109)} mmHg   RR: 16 (14 - 24) insp/min   SPO2: 100%   Heart rhythm: SR (Sinus Rhythm)   Wgt (current): 85.5 kg (admission): 85.5 kg             Total In:                                                                  3,038 mL                                                                    646 mL   PO:             Tube feeding:   IV Fluid:                                                                  1,538 mL                                                                    646 mL   Blood products:                                                                  1,500 mL   Total out:                                                                  2,920 mL                                                                    545 mL   Urine:                                                                  1,810 mL                                                                    485 mL   NG:   Stool:   Drains:                                                                    110 mL                                                                     60 mL   Balance:                                                                    118 mL                                                                    101 mL   Respiratory support   O2 Delivery Device: Endotracheal tube   Ventilator mode: CMV/ASSIST   Vt (Set): 600 (600 - 600) mL   PS : 5 cmH2O   RR (Set): 16   RR (Spontaneous): 0   PEEP: 5 cmH2O   FiO2: 50%   PIP: 18 cmH2O   Plateau: 13 cmH2O   Compliance: 75 cmH2O/mL   SPO2: 100%   ABG: 7.39/37/508/28/-1   Ve: 8.7 L/min   PaO2 / FiO2: 1,016   Physical Examination   General Appearance: No acute distress   HEENT: PERRL, EOMI   Cardiovascular: (Rhythm: Regular)   Respiratory / Chest: (Expansion: Symmetric), (Breath Sounds: CTA   bilateral : ), (Sternum: Stable )   Abdominal: Soft, Non-distended, Non-tender, Bowel sounds present   Left Extremities: (Edema: Absent), (Temperature: Warm), (Pulse -   Dorsalis pedis: Present), (Pulse - Posterior tibial: Present)   Right Extremities: (Edema: Absent), (Temperature: Warm), (Pulse -   Dorsalis pedis: Present), (Pulse - Posterior tibial: Present)   Skin: (Incision: Clean / Dry / Intact)   Neurologic: Follows simple commands, Moves all extremities, Sedated   Labs / Radiology   208 K/uL   12.9 g/dL   82 mg/dL   0.9 mg/dL   28 mEq/L   4.2 mEq/L   8 mg/dL   105 mEq/L   143 mEq/L   36.6 %   11.8 K/uL                                      10:40 AM                              12:12 PM                              12:26 PM                              01:58 AM   WBC   11.3   11.8   Hct   41   36.2   36.6   Plt   238   208   Creatinine   0.7   0.9   TCO2   22   23   Glucose   100   97   82   Other labs: PT / PTT / INR:13.4/30.3/1.2, Lactic Acid:3.8 mmol/L,   Ca:8.9 mg/dL, Mg:2.0 mg/dL, PO4:3.5 mg/dL   Assessment and Plan   TRAUMA, S/P   Assessment and Plan: 21M s/p ?assault, struck by object to back of   head, fall to ground striking back of head on ground, +LOC. Right   SDH/SAH, left temporal bone fracture.   Neurologic: Neuro checks Q: 1 hr, Pain controlled, intubated/sedated,   wean sedation, dilantin loaded, s/p craniotomy with epidural hematoma   evacuation, follows commands   Cardiovascular: Stable   Pulmonary: Spontaneous breathing trial, liberate from vent as tolerated   Gastrointestinal / Abdomen: Stable   Nutrition: NPO   Renal: Foley, Adequate UO   Hematology: Stable   Endocrine: RISS   Infectious Disease: Afebrile, DC Ancef   Lines / Tubes / Drains: Foley, OGT, ETT   Wounds: Dry dressings   Imaging: CT scan head today   Fluids: NS, NS@80   Consults: Neuro surgery   Billing Diagnosis: (Hemorrhage, NOS), Multiple injuries (Trauma)   ICU Care   Nutrition:   Glycemic Control:  Regular insulin sliding scale   Lines:   18 Gauge -  06:56 AM   16 Gauge -  06:56 AM   Prophylaxis:   DVT: Boots   Stress ulcer: H2 blocker   VAP bundle: HOB elevation, Mouth care, Daily wake up, RSBI   Comments:   Communication: Patient discussed on interdisciplinary rounds , ICU   Code status: Full code   Disposition: ICU   Total time spent: 35 minutes   Patient is critically ill 21yr male found down in  square, pt found obtunded. Pt noted to   have a 3-5cm laceration to the left temporal area and the CT of the   head showed left temporal bone fracture with adjacent epidural   hematoma, and small right temporal SAH or SAH. transferred to TICU for   management of SDH/SAH, temporal bone fracture, intubated/sedated.   Repeat head CT revealed enlarging epidural hematoma, taken emergently   to OR for craniotomy with hematoma evacuation.   Most recent head Ct  0830   IMPRESSION:   1. Status post left temporal craniotomy with stable appearance of the   bilateral extra-axial temporal hemorrhage and the right frontal   extra-axial   hemorrhage.   2. Interval improvement in the left uncal herniation. Unchanged   subfalcine   herniation.   Altered mental status (not Delirium)   Assessment:   Temporal lobe injury   Action:   Neuro check Q2hrs, frequent attempts to orient pt, emotional support   provided for pt and family.   Response:   Pt impulsive, aggressive, combative, uncooperative, pulling at tubes   and wires, removing c-collar.   Plan:   Cont Q2hr neuro checks, provide safe environment, cont to orient and   provide emotional support.   Trauma, s/p   Assessment:   Temporal bone fx with epidural, SAH/SDH requiring crani and burr holes,   Action:   Pt extubated, JP drain removed by neuro , incision checked, Foley   d/c for patient safety.   Response:   No further drainage from incision. pt  between  -2200.   Plan:   Cont neuro checks, OOB to chair then ambulate when able, clear liquids   when more awake. 21yr male found down in  square, pt found obtunded. Pt noted to   have a 3-5cm laceration to the left temporal area and the CT of the   head showed left temporal bone fracture with adjacent epidural   hematoma, and small right temporal SAH or SAH.S/P left crani .     Police was a witnessed assault.   Trauma, s/p   Assessment:   s/p crani . Neuro Q1hrs. Follows commands inconsistently, PERRLA   2mm bilat and briskly reactive. Agitated when doing neuro exams but   will sometimes squeeze hands and sometimes wiggles toes. + corneals,   cough and gag. Bulb sxn drain to left side of head.   Action:   s/p left crani for epidural hematoma evacuation . Q1 hr neuro   checks. Sedation- propofol gtt and fenanyl prn for pain.   Response:   Remains agitated when lightened for exams.   Plan:   CT to be done after 7 am per CT  since ordered as routine- per HO will   remain routine to be done early this am. Ween vent as tolerated- ween   to extubate. Continue Q1 hr neuro checks. 21yr male found down in  square, pt found obtunded. Pt noted to   have a 3-5cm laceration to the left temporal area and the CT of the   head showed left temporal bone fracture with adjacent epidural   hematoma, and small right temporal SAH or SAH.S/P left crani .     Police was a witnessed assault.   Trauma, s/p   Assessment:   s/p crani . Neuro Q1hrs. Follows commands inconsistently, PERRLA   2mm bilat and briskly reactive. Agitated when doing neuro exams but   will sometimes squeeze hands and sometimes wiggles toes. + corneals,   cough and gag. Bulb sxn drain to left side of head. Dilantin level this   am 8.8   Action:   s/p left crani for epidural hematoma evacuation . Q1 hr neuro   checks. Sedation- propofol gtt and fenanyl prn for pain.  Given extra   one time dose of 500mg of dilantin at 0400   Response:   Remains agitated when lightened for exams.   Plan:   CT to be done after 7 am per CT  since ordered as routine- per HO will   remain routine to be done early this am. Ween vent as tolerated- ween   to extubate. Continue Q1 hr neuro checks. 21yr male found down in  square, pt found obtunded. Pt noted to   have a 3-5cm laceration to the left temporal area and the CT of the   head showed left temporal bone fracture with adjacent epidural   hematoma, and small right temporal SAH or SAH. transferred to TICU for   management of SDH/SAH, temporal bone fracture, intubated/sedated.   Repeat head CT revealed enlarging epidural hematoma, taken emergently   to OR for craniotomy with hematoma evacuation.   Most recent head Ct  0830   IMPRESSION:   1. Status post left temporal craniotomy with stable appearance of the   bilateral extra-axial temporal hemorrhage and the right frontal   extra-axial   hemorrhage.   2. Interval improvement in the left uncal herniation. Unchanged   subfalcine   herniation.   Altered mental status (not Delirium)   Assessment:   Temporal lobe injury   Action:   Neuro check Q2hrs, frequent attempts to orient pt, emotional support   provided for pt and family.   Response:   Pt impulsive, aggressive, combative, uncooperative, pulling at tubes   and wires, removing c-collar.   Plan:   Cont Q2hr neuro checks, provide safe environment, cont to orient and   provide emotional support.   Trauma, s/p   Assessment:   Temporal bone fx with epidural, SAH/SDH requiring crani and burr holes,   Action:   Pt extubated, JP drain removed by neuro , incision checked,  J   d/c by dr.. Foley d/c for patient safety.   Response:   No further drainage from incision. pt  between  -2200.   Plan:   Cont neuro checks,  OOB to chair then ambulate when able, clear liquids   when more awake. Dr  spoke with family about condition and rehab. SICU   HPI:   21M s/p alleged assault, struck by object to back of head, fell to   ground striking back of head, + transferred to , +ETOH, found   to have left temporal fracture and EDH as well as small right SDH/SAH.   Exam notable for dysconjugate gaze, likely lateral rectus palsy on the   left. Exam otherwise non-localizing.   Chief complaint:   trauma   PMHx:   none   Current medications:   dilantin, propofol, ancef, fenatanyl, famotidine   24 Hour Events: EXTUBATION - At  10:20 AM EXTUBATION - At  10:30 AM   Extubated, continues to be interittantly agitated but redirectable.   Repeat head CT ok, clear for step down per neuro.   Post operative day:   POD#2 - R craniotomy w/ burr hole placement   Allergies:   No Known Drug Allergies   Last dose of Antibiotics:   Cefazolin -  09:30 AM   Infusions:   Other ICU medications:   Fentanyl -  09:09 AM   Hydromorphone (Dilaudid) -  06:28 PM   Famotidine (Pepcid) -  01:00 AM   Dilantin -  04:24 AM   Other medications:   Flowsheet Data as of   06:22 AM   Vital signs   Hemodynamic monitoring   Fluid balance                                                                  24 hours                                                             Since  a.m.   Tmax: 37.8C (100.1   T current: 36.9C (98.5   HR: 79 (50 - 94) bpm   BP: 147/57(78) {107/47(72) - 177/92(110)} mmHg   RR: 26 (14 - 26) insp/min   SPO2: 99%   Heart rhythm: SR (Sinus Rhythm)   Wgt (current): 85.5 kg (admission): 85.5 kg             Total In:                                                                  2,345 mL                                                                    551 mL   PO:             Tube feeding:   IV Fluid:                                                                  2,345 mL                                                                    551 mL   Blood products:   Total out:                                                                  3,520 mL                                                                    450 mL   Urine:                                                                  3,430 mL                                                                    450 mL   NG:   Stool:   Drains:                                                                     90 mL   Balance:                                                                 -1,175 mL                                                                    101 mL   Respiratory support   O2 Delivery Device: None   Ventilator mode: CMV/ASSIST   Vt (Set): 600 (600 - 600) mL   RR (Set): 16   RR (Spontaneous): 0   PEEP: 5 cmH2O   FiO2: 35%   RSBI Deferred: Agitated, Vent Dependant   PIP: 21 cmH2O   Plateau: 12 cmH2O   SPO2: 99%   ABG: ///28/   Ve: 9.3 L/min   Physical Examination   General Appearance: No acute distress, Anxious   HEENT: PERRL   Cardiovascular: (Rhythm: Regular)   Respiratory / Chest: (Expansion: Symmetric), (Breath Sounds: CTA   bilateral : )   Abdominal: Soft, Non-distended, Non-tender   Left Extremities: (Edema: Absent), (Temperature: Warm), (Pulse -   Dorsalis pedis: Present), (Pulse - Posterior tibial: Present)   Right Extremities: (Edema: Absent), (Temperature: Warm), (Pulse -   Dorsalis pedis: Present), (Pulse - Posterior tibial: Present)   Skin: (Incision: Clean / Dry / Intact)   Neurologic: (Awake / Alert / Oriented: x 2), Follows simple commands,   Moves all extremities, has intermittant outbursts of agitation and   disinhibition, but easily redirectable   Labs / Radiology   227 K/uL   13.3 g/dL   123 mg/dL   0.6 mg/dL   28 mEq/L   3.8 mEq/L   6 mg/dL   101 mEq/L   138 mEq/L   37.3 %   12.0 K/uL                                      10:40 AM                              12:12 PM                              12:26 PM                              01:58 AM                              01:52 AM   WBC   11.3   11.8   12.0   Hct   41   36.2   36.6   37.3   Plt   238   208   227   Creatinine   0.7   0.9   0.6   TCO2   22   23   Glucose   100   97   82   123   Other labs: PT / PTT / INR:13.4/30.3/1.2, Lactic Acid:3.8 mmol/L,   Ca:9.1 mg/dL, Mg:1.8 mg/dL, PO4:2.8 mg/dL   Assessment and Plan   ALTERED MENTAL STATUS (NOT DELIRIUM), TRAUMA, S/P   Assessment and Plan: 21M s/p ?assault, struck by object to back of   head, fall to ground striking back of head on ground, +LOC. Right   SDH/SAH, left temporal bone fracture.   Neurologic: Neuro checks Q: 2 hr, Phenytoin - therapeutic, Pain   controlled, A/Ox3, agitated and confused at times but redirectable.   con't dilantin.   Cardiovascular: stable   Pulmonary: stable   Gastrointestinal / Abdomen: stable   Nutrition: NPO, consider ADAT   Renal: Adequate UO   Hematology: stable   Endocrine: RISS   Infectious Disease: no issues   Lines / Tubes / Drains: piv   Wounds: Dry dressings   Imaging: per neurosurgery, no plans for imaging today   Fluids: NS   Consults: Neuro surgery   Billing Diagnosis: Closed head injury   ICU Care   Nutrition:   Glycemic Control:   Lines:   20 Gauge -  05:00 AM   Prophylaxis:   DVT: Boots (ambulating)   Stress ulcer: H2 blocker   VAP bundle:   Comments:   Communication: Patient discussed on interdisciplinary rounds  Comments:   Code status: Full code   Disposition: Transfer to floor   Total time spent: 35 minutes Demographics   Day of intubation:   Day of mechanical ventilation: 0   Ideal body weight: 0 None   Ideal tidal volume: 0 / 0 / 0 mL/kg   Airway   Airway Placement Data   Known difficult intubation: Unknown   Procedure location:   Reason:   Tube Type   ETT:                   Position:  cm at teeth                   Route:                   Type: Standard                   Size: 7.5mm   Tracheostomy tube:                   Type:                   Manufacturer:                   Size:                   PMV:   Cuff  Management:                   Vol/Press:                                   Cuff pressure:   cmH2O                                   Cuff volume:   mL /                   Airway problems:                   Comments:   Lung sounds   RLL Lung Sounds: Diminished   RUL Lung Sounds: Rhonchi   LUL Lung Sounds: Rhonchi   LLL Lung Sounds: Diminished   Comments:   Secretions   Sputum color / consistency: Brown  / Thick   Sputum source/amount: Expectorated / Moderate   Comments:   Ventilation Assessment   Level of breathing assistance:   Visual assessment of breathing pattern:   Assessment of breathing comfort:   Non-invasive ventilation assessment:   Invasive ventilation assessment:   Trigger work assessment:   Dysynchrony assessment:   Comments:   Plan   Next 24-48 hours:   Reason for continuing current ventilatory support:   Respiratory Care Shift Procedures   Transports:   Destination (R/T)   Time   Complications   Comments   Bedside Procedures:   Comments:   Pt received intubated. Becoming ^ingly agitated/aggressive. Extubated    MD for pts safety. Placed on ofm. BS equal and bilat. No stridor   noted. Plan: cont to monitor.   17:33 SICU   HPI:   21M s/p alleged assault, struck by object to back of head, fell to   ground striking back of head, + transferred to , +ETOH, found   to have left temporal fracture and EDH as well as small right SDH/SAH.   Exam notable for dysconjugate gaze, likely lateral rectus palsy on the   left. Exam otherwise non-localizing.   Chief complaint:   trauma   PMHx:   none   Current medications:   dilantin, propofol, ancef, fenatanyl, famotidine   24 Hour Events: EXTUBATION - At  10:20 AM EXTUBATION - At  10:30 AM   Extubated, continues to be interittantly agitated but redirectable.   Repeat head CT ok, clear for step down per neuro.   Post operative day:   POD#2 - R craniotomy w/ burr hole placement   Allergies:   No Known Drug Allergies   Last dose of Antibiotics:   Cefazolin -  09:30 AM   Infusions:   Other ICU medications:   Fentanyl -  09:09 AM   Hydromorphone (Dilaudid) -  06:28 PM   Famotidine (Pepcid) -  01:00 AM   Dilantin -  04:24 AM   Other medications:   Flowsheet Data as of   06:22 AM   Vital signs   Hemodynamic monitoring   Fluid balance                                                                  24 hours                                                             Since  a.m.   Tmax: 37.8C (100.1   T current: 36.9C (98.5   HR: 79 (50 - 94) bpm   BP: 147/57(78) {107/47(72) - 177/92(110)} mmHg   RR: 26 (14 - 26) insp/min   SPO2: 99%   Heart rhythm: SR (Sinus Rhythm)   Wgt (current): 85.5 kg (admission): 85.5 kg             Total In:                                                                  2,345 mL                                                                    551 mL   PO:             Tube feeding:   IV Fluid:                                                                  2,345 mL                                                                    551 mL   Blood products:   Total out:                                                                  3,520 mL                                                                    450 mL   Urine:                                                                  3,430 mL                                                                    450 mL   NG:   Stool:   Drains:                                                                     90 mL   Balance:                                                                 -1,175 mL                                                                    101 mL   Respiratory support   O2 Delivery Device: None   Ventilator mode: CMV/ASSIST   Vt (Set): 600 (600 - 600) mL   RR (Set): 16   RR (Spontaneous): 0   PEEP: 5 cmH2O   FiO2: 35%   RSBI Deferred: Agitated, Vent Dependant   PIP: 21 cmH2O   Plateau: 12 cmH2O   SPO2: 99%   ABG: ///28/   Ve: 9.3 L/min   Physical Examination   General Appearance: No acute distress, Anxious   HEENT: PERRL   Cardiovascular: (Rhythm: Regular)   Respiratory / Chest: (Expansion: Symmetric), (Breath Sounds: CTA   bilateral : )   Abdominal: Soft, Non-distended, Non-tender   Left Extremities: (Edema: Absent), (Temperature: Warm), (Pulse -   Dorsalis pedis: Present), (Pulse - Posterior tibial: Present)   Right Extremities: (Edema: Absent), (Temperature: Warm), (Pulse -   Dorsalis pedis: Present), (Pulse - Posterior tibial: Present)   Skin: (Incision: Clean / Dry / Intact)   Neurologic: (Awake / Alert / Oriented: x 2), Follows simple commands,   Moves all extremities, has intermittant outbursts of agitation and   disinhibition, but easily redirectable   Labs / Radiology   227 K/uL   13.3 g/dL   123 mg/dL   0.6 mg/dL   28 mEq/L   3.8 mEq/L   6 mg/dL   101 mEq/L   138 mEq/L   37.3 %   12.0 K/uL                                      10:40 AM                              12:12 PM                              12:26 PM                              01:58 AM                              01:52 AM   WBC   11.3   11.8   12.0   Hct   41   36.2   36.6   37.3   Plt   238   208   227   Creatinine   0.7   0.9   0.6   TCO2   22   23   Glucose   100   97   82   123   Other labs: PT / PTT / INR:13.4/30.3/1.2, Lactic Acid:3.8 mmol/L,   Ca:9.1 mg/dL, Mg:1.8 mg/dL, PO4:2.8 mg/dL   Assessment and Plan   ALTERED MENTAL STATUS (NOT DELIRIUM), TRAUMA, S/P   Assessment and Plan: 21M s/p ?assault, struck by object to back of   head, fall to ground striking back of head on ground, +LOC. Right   SDH/SAH, left temporal bone fracture.   Neurologic: Neuro checks Q: 2 hr, Phenytoin - therapeutic, Pain   controlled, A/Ox3, agitated and confused at times but redirectable.   Con't dilantin.   Cardiovascular: stable   Pulmonary: stable   Gastrointestinal / Abdomen: stable. Bedside swallow study   Nutrition: NPO, consider ADAT   Renal: Adequate UO   Hematology: stable   Endocrine: RISS   Infectious Disease: no issues   Lines / Tubes / Drains: piv   Wounds: Dry dressings   Imaging: per neurosurgery, no plans for imaging today   Fluids: NS   Consults: Neuro surgery   Billing Diagnosis: Closed head injury   ICU Care   Nutrition:   Glycemic Control:   Lines:   20 Gauge -  05:00 AM   Prophylaxis:   DVT: Boots (ambulating)   Stress ulcer: H2 blocker   VAP bundle:   Comments:   Communication: Patient discussed on interdisciplinary rounds  Comments:   Code status: Full code   Disposition: Transfer to floor   Total time spent: 35 minutes TSICU   HPI:   21M s/p alleged assault, struck by object to back of head, fell to   ground striking back of head, + transferred to , +ETOH, found   to have left temporal fracture and EDH as well as small right SDH/SAH.   Exam notable for dysconjugate gaze, likely lateral rectus palsy on the   left. Exam otherwise non-localizing.   Chief complaint:   trauma   PMHx:   unremarkable   Current medications:   dilantin, propofol, ancef, fenatanyl, famotidine   24 Hour Events: EXTUBATION - At  10:20 AM EXTUBATION - At  10:30 AM CALLED OUT   Post operative day:   POD#3 - R craniotomy w/ burr hole placement   Allergies:   No Known Drug Allergies   Last dose of Antibiotics:   Cefazolin -  09:30 AM   Infusions:   Other ICU medications:   Heparin Sodium (Prophylaxis) -  04:36 PM   Dilantin -  08:34 PM   Famotidine (Pepcid) -  12:00 AM   Other medications:   Flowsheet Data as of   02:26 AM   Vital signs   Hemodynamic monitoring   Fluid balance                                                                  24 hours                                                             Since  a.m.   Tmax: 37.7C (99.8   T current: 37.7C (99.8   HR: 58 (53 - 99) bpm   BP: 104/61(69) {104/42(63) - 164/73(91)} mmHg   RR: 13 (12 - 26) insp/min   SPO2: 99%   Heart rhythm: SB (Sinus Bradycardia)   Wgt (current): 85.5 kg (admission): 85.5 kg             Total In:                                                                  2,021 mL                                                                    315 mL   PO:             80 mL   Tube feeding:   IV Fluid:                                                                  2,021 mL                                                                    235 mL   Blood products:   Total out:                                                                  2,975 mL                                                                      0 mL   Urine:                                                                  2,975 mL   NG:   Stool:   Drains:   Balance:                                                                   -954 mL                                                                    315 mL   Respiratory support   O2 Delivery Device: None   SPO2: 99%   ABG: ////   Physical Examination   General Appearance: No acute distress   HEENT: PERRL   Cardiovascular: (Rhythm: Regular)   Respiratory / Chest: (Expansion: Symmetric), (Breath Sounds: CTA   bilateral : )   Abdominal: Soft, Non-distended   Left Extremities: (Edema: Absent), (Temperature: Warm), (Pulse -   Dorsalis pedis: Present), (Pulse - Posterior tibial: Present)   Right Extremities: (Edema: Absent), (Temperature: Warm), (Pulse -   Dorsalis pedis: Present), (Pulse - Posterior tibial: Present)   Neurologic: (Awake / Alert / Oriented: x 3), Follows simple commands,   Moves all extremities   Labs / Radiology   227 K/uL   13.3 g/dL   123 mg/dL   0.6 mg/dL   28 mEq/L   3.8 mEq/L   6 mg/dL   101 mEq/L   138 mEq/L   37.3 %   12.0 K/uL                                      10:40 AM                              12:12 PM                              12:26 PM                              01:58 AM                              01:52 AM   WBC   11.3   11.8   12.0   Hct   41   36.2   36.6   37.3   Plt   238   208   227   Creatinine   0.7   0.9   0.6   TCO2   22   23   Glucose   100   97   82   123   Other labs: PT / PTT / INR:13.4/30.3/1.2, Lactic Acid:3.8 mmol/L,   Ca:9.1 mg/dL, Mg:1.8 mg/dL, PO4:2.8 mg/dL   Assessment and Plan   ALTERED MENTAL STATUS (NOT DELIRIUM), TRAUMA, S/P   Assessment and Plan: 21M s/p ?assault SAH/SDH s/p crani doing well   Neurologic: Neuro checks Q: 2 hr, Phenytoin - therapeutic, Pain   controlled, Stable, CT head for any acute change in status   Cardiovascular: Stable   Pulmonary: Stable   Gastrointestinal / Abdomen: Stable   Nutrition: Regular diet   Renal: Adequate UO   Hematology: Stable   Endocrine: RISS   Infectious Disease: Afebrile   Lines / Tubes / Drains:   Wounds: Dry dressings   Imaging:   Fluids: KVO   Consults: Neuro surgery, Trauma surgery   Billing Diagnosis: (Hemorrhage, NOS: Sub-arachnoid, Subdural), Closed   head injury   ICU Care   Nutrition:   Glycemic Control:  Regular insulin sliding scale   Lines:   20 Gauge -  05:00 AM   Prophylaxis:   DVT: Boots, SQ UF Heparin   Stress ulcer: H2 blocker   VAP bundle:   Comments:   Communication: Patient discussed on interdisciplinary rounds  Comments:   Code status: Full code   Disposition: Transfer to floor   Total time spent: 35 minutes 21yr male found down in  square, pt found obtunded. Pt noted to   have a 3-5cm laceration to the left temporal area and the CT of the   head showed left temporal bone fracture with adjacent epidural   hematoma, and small right temporal SAH or SAH.   transferred to TICU for management of SDH/SAH, temporal bone fracture,   intubated/sedated. Repeat head CT revealed enlarging epidural hematoma,   taken emergently to OR for craniotomy with hematoma evacuation.   Most recent head Ct  0830   IMPRESSION:   1. Status post left temporal craniotomy with stable appearance of the   bilateral extra-axial temporal hemorrhage and the right frontal   extra-axial   hemorrhage.   2. Interval improvement in the left uncal herniation. Unchanged   subfalcine   herniation.   Altered mental status (not Delirium)   Assessment:   Action:   Response:   Plan:   Trauma, s/p   Assessment:   Action:   Response:   Plan: Demographics   Day of intubation:   Day of mechanical ventilation: 1   Ideal body weight: 0 None   Ideal tidal volume: 0 / 0 / 0 mL/kg   Airway   Airway Placement Data   Known difficult intubation: Unknown   Procedure location:   Reason: Emergent (1st time)   Tube Type   ETT:                   Position:  cm at teeth                   Route:                   Type: Standard                   Size: 7.5mm   Tracheostomy tube:                   Type:                   Manufacturer:                   Size:                   PMV:   Cuff  Management:                   Vol/Press:                                   Cuff pressure:   cmH2O                                   Cuff volume:   mL /                   Airway problems:                   Comments:   Lung sounds   RLL Lung Sounds: Clear   RUL Lung Sounds: Clear   LUL Lung Sounds: Clear   LLL Lung Sounds: Clear   Comments:   Secretions   Sputum color / consistency:  /   Sputum source/amount: Suctioned / None   Comments:   Ventilation Assessment   Level of breathing assistance: Continuous invasive ventilation   Visual assessment of breathing pattern: Normal quiet breathing;   Comments: q1 hour neuro checks. Pt very agitated when he wakes.   Assessment of breathing comfort: No response (sleeping / sedated)   Non-invasive ventilation assessment:   Invasive ventilation assessment:   Trigger work assessment: Triggering synchronously   Dysynchrony assessment:   Comments:   Plan   Next 24-48 hours: Continue with daily RSBI tests & SBT's as tolerated   Reason for continuing current ventilatory support:   Respiratory Care Shift Procedures   Transports:   Destination (R/T)   Time   Complications   Comments   CT   0800   CT   1230   w/o incident x2   Bedside Procedures:   Comments:   17:58 21yr male found down in  square, pt found obtunded. Pt noted to   have a 3-5cm laceration to the left temporal area and the CT of the   head showed left temporal bone fracture with adjacent epidural   hematoma, and small right temporal SAH or SAH. transferred to TICU for   management of SDH/SAH, temporal bone fracture, intubated/sedated.   Repeat head CT revealed enlarging epidural hematoma, taken emergently   to OR for craniotomy with hematoma evacuation.   Most recent head Ct  0830   IMPRESSION:   1. Status post left temporal craniotomy with stable appearance of the   bilateral extra-axial temporal hemorrhage and the right frontal   extra-axial   hemorrhage.   2. Interval improvement in the left uncal herniation. Unchanged   subfalcine   herniation.   Altered mental status (not Delirium)   Assessment:   Temporal lobe injury   Action:   Neuro check Q2hrs, frequent attempts to orient pt, emotional support   provided for pt and family.   Response:   Pt impulsive, aggressive, combative, uncooperative, pulling at tubes   and wires, removing c-collar.   Plan:   Cont Q2hr neuro checks, provide safe environment, cont to orient and   provide emotional support.   Trauma, s/p   Assessment:   Temporal bone fx with epidural, SAH/SDH requiring crani and burr holes,   Action:   Pt extubated, JP drain removed by neuro , incision checked,  J   remains until pt can comply with exam. Foley d/c for patient safety.   Response:   No further drainage from incision. pt  between  -2200.   Plan:   Cont neuro checks, clear neck when able, OOB to chair then ambulate   when able, clear liquids when more awake. 21yr male found down in  square, pt found obtunded. Pt noted to   have a 3-5cm laceration to the left temporal area and the CT of the   head showed left temporal bone fracture with adjacent epidural   hematoma, and small right temporal SAH or SAH. transferred to TICU for   management of SDH/SAH, temporal bone fracture, intubated/sedated.   Repeat head CT revealed enlarging epidural hematoma, taken emergently   to OR for craniotomy with hematoma evacuation.   : OR craniotomy and hematoma evacuation   : Extubated, foley d/c   : Transfer to neuro step-down   Trauma, s/p assault with injuries as listed above   Assessment:   L head incision with dsd, cdi. Pt MAEs with normal strength, very   impulsive, will follow commands inconsistently, speech clear, confused,   word salad. Pupils 3mm/3mm equal and briskly reactive. Unsteady gait.   Per night nurse pt was lucid and speking with mother on phone for   approx 15min. mother confers with this.   Action:   Neuro checks q 2 hours, reorient as needed, bed alarm on for pt safety.   Family at bedside. Dilantin level in am 6.7.   Response:   Dilantin dcd and pt to start on keppra iv awaiting dose from pharmacy.   Plan:   Neuro check q 2 hours, reorient as needed, start keppra iv.   Electrolyte imbalance,   Am labs K= 2.5, mag 1.3, phos 1.8   Repletions ordered but not awake enough to take po in am, mag repleted   ivp, K+ added to IVF.   Recheck lytes in evening, 21yr male found down in  square, pt found obtunded. Pt noted to   have a 3-5cm laceration to the left temporal area and the CT of the   head showed left temporal bone fracture with adjacent epidural   hematoma, and small right temporal SAH or SAH. transferred to TICU for   management of SDH/SAH, temporal bone fracture, intubated/sedated.   Repeat head CT revealed enlarging epidural hematoma, taken emergently   to OR for craniotomy with hematoma evacuation.   : OR craniotomy and hematoma evacuation   : Extubated, foley d/c   : Transfer to neuro step-down   Trauma, s/p assault with injuries as listed above   Assessment:   L head incision with dsd, cdi. Pt MAEs with normal strength, very   impulsive, will follow commands inconsistently, speech clear, confused,   word salad. Pupils 3mm/3mm equal and briskly reactive. Unsteady gait.   Per night nurse pt was lucid and speking with mother on phone for   approx 15min. mother confers with this.   Action:   Neuro checks q 2 hours, reorient as needed, bed alarm on for pt safety.   Family at bedside. Dilantin level in am 6.7.   Response:   Dilantin dcd and pt to start on keppra iv awaiting dose from pharmacy.   Plan:   Neuro check q 2 hours, reorient as needed, start keppra iv.   Electrolyte imbalance,   Am labs K= 2.5, mag 1.3, phos 1.8   Repletions ordered but not awake enough to take po in am, mag repleted   ivp, K+ added to IVF.   Recheck lytes in evening,   Demographics   Attending MD:     J.   Admit diagnosis:   HEAD BLEED   Code status:   Full code   Height:   Admission weight:   85.5 kg   Daily weight:   85.5 kg   Allergies/Reactions:   No Known Drug Allergies   Precautions: No Additional Precautions   PMH:   CV-PMH:   Additional history:   Surgery / Procedure and date:  left craniotomy for epidural   hematoma, with burr holes   Latest Vital Signs and I/O   Non-invasive BP:   S:132   D:63   Temperature:   97.9   Arterial BP:   S:166   D:83   Respiratory rate:   20 insp/min   Heart Rate:   57 bpm   Heart rhythm:   SB (Sinus Bradycardia)   O2 delivery device:   None   O2 saturation:   98% %   O2 flow:   10 L/min   FiO2 set:   35% %   24h total in:   2,571 mL   24h total out:   1,100 mL   Pertinent Lab Results:   Sodium:   143 mEq/L    02:30 AM   Potassium:   2.5 mEq/L    02:30 AM   Chloride:   114 mEq/L    02:30 AM   CO2:   21 mEq/L    02:30 AM   BUN:   5 mg/dL    02:30 AM   Creatinine:   0.4 mg/dL    02:30 AM   Glucose:   77 mg/dL    02:30 AM   Hematocrit:   33.9 %    02:30 AM   Finger Stick Glucose:   115    12:12 PM   Additional pertinent labs:   Lines / Tubes / Drains:   peripheral 20 guage   Valuables / Signature   Patient valuables:   Other valuables:   Clothes:  Sent home with:   Wallet / Money:   No money / wallet   Cash / Credit cards sent home with:   Jewelry:   Transferred from:    Transferred to:  11 SDU   Date & time of Transfer:  1330 Altered mental status (not Delirium)   Assessment:   Impulsive, agitated at times, Garbled speech, word salad,  disconjugate   gaze, PERRLA 3mm and , s with equal strength and sensation to   light touch and pain, frequent re-orientation required, no c/c pain,   VSS.   Action:   Neurological examination q 2hrs, re-orientation q 2 hrs and prn.   Response:   Stable neurological function, no decline in neurological function.   Plan:   Transfer to medical-surgical floor. HPI:   Chief complaint:   PMHx:   Current medications:   24 Hour Events:   Post operative day:   Allergies:   Last dose of Antibiotics:   Infusions:   Other ICU medications:   Other medications:   Flowsheet Data as of   Vital signs   Hemodynamic monitoring   Fluid balance                                                                  24 hours                                                             Since  a.m.   Respiratory support   Physical Examination   Labs / Radiology           WBC   Hct   Plt   Creatinine   Troponin T   TCO2   Glucose   Imaging:   Microbiology:   ECG:   Assessment and Plan   Assessment and Plan:   Neurologic:   Cardiovascular:   Pulmonary:   Gastrointestinal / Abdomen:   Nutrition:   Renal:   Hematology:   Endocrine:   Infectious Disease:   Lines / Tubes / Drains:   Wounds:   Imaging:   Fluids:   Consults:   Billing Diagnosis:   ICU Care   Nutrition:   Glycemic Control:   Lines:   Prophylaxis:   DVT:   Stress ulcer:   VAP bundle:   Communication:  Comments:   Code status:   Disposition:   Total time spent: 21yo male s/p found down, obtunded in  Square, likely assault.   CT showed left temporal bone fracture, adjacent epidural hematoma,   Right small SDH or SAH (unclear).  :  craniotomy for epidural   hematoma and burr holes.  Pt extubated on , foley self-d/cd on   .   Anxiety   Assessment:   Pt slightly anxious/ impatient/ uncooperative/ combative/ selectively   following commands at times.   At 02:00, pts anxiety increased, had   many questions about who caused this injury, if he was in trouble,   where his friends were at the time of his injury, what time the injury   occurred, etc.  Pt insisted on calling mother for answers after this RN   answered questions as able and assisted with pts coping.   Action:   Emotional support and answers to questions as able from this RN.  This   RN called pts mother at 02:00, gave status update and informed mother   that pt had a lot of detailed questions regarding the incident and   wanted to speak with her.  Provided emotional support to mother.   Response:   Pt very clearly spoke with mother on the phone about the incident, pt   had lucid thoughts and concerns per mothers report.  Pt asking   appropriate questions about incident, disease process, future   ramifications (school, grades, etc.).  Mother very emotional on the   phone after speaking with son: relieved to know that he is having clear   thoughts since he reportedly did not recognize her at 19:00 11//24   (prior evening).  Pts mother was reminded that pts with head bleeds   can wax/wean, and that being in the ICU with Q2 hr neuro checks can   have a negative effect on clear thinking, orientation, and actions (ICU   delirium).   Plan:   Continue Q2 hr neuro checks, continue to support pt and family.   Continue to reorient pt and explain importance of staying in bed and   leaving monitoring devices on. Give haldol if pt extremely anxious per   PRN medication orders.   Altered mental status (not Delirium)   Assessment:   s/p Trauma and subsequent craniotomy.  Q2hr neuro checks continued.  Pt   has full strength and mobility in all extremities, pupils 4mm/4mm,   briskly reactive, equal; pt usually/selectively follows commands.   Pt   occasionally confused, alert and oriented x1-2 (always oriented to   self, occasionally oriented to place/time/reason for hospitalization).   Speech is clear, pt occasionally confused and having word salad,   talking in math equations, discussing random issues.  Pt most   lucid/oriented at 02:00 during conversation with mother on the phone.   Action:   Continued 2 hr neuro checks, provided emotional support to pt,   frequently reoriented to situation/activity/disease process.  Pt did   not attempt to get OOB without assistance, appropriately sat at edge of   bed to urinate.   Response:   Pt still occasionally confused, requiring emotional support and   reorientation.   Plan:   Continue Q2hr neuro checks, support pt and family, reorient when   needed.  Transfer pt to SDU when bed available.  ?sitter once on SDU?   Pain control (acute pain, chronic pain)   Assessment:   Pt c/o headache on left side of head rated , associated with   anxiety.   Action:   Provided emotional support to pt, assisted with repositioning, gave   50mcg Fentanyl IVP for pain.   Response:   Pt rested comfortably after 50mcg Fentanyl IVP, denied pain after   intervention.  Pt slept well throughout night.   Plan:   Continue to assess for pain, treat with emotional support and fentanyl   IVP.  Continue to support pt and family. 21yr male found down in  square, pt found obtunded. Pt noted to   have a 3-5cm laceration to the left temporal area and the CT of the   head showed left temporal bone fracture with adjacent epidural   hematoma, and small right temporal SAH or SAH. transferred to TICU for   management of SDH/SAH, temporal bone fracture, intubated/sedated.   Repeat head CT revealed enlarging epidural hematoma, taken emergently   to OR for craniotomy with hematoma evacuation.   : OR craniotomy and hematoma evacuation   : Extubated, foley d/c   : Transfer to neuro step-down   Trauma, s/p   Assessment:   Action:   Response:   Plan: 21yr male found down in  square, pt found obtunded. Pt noted to   have a 3-5cm laceration to the left temporal area and the CT of the   head showed left temporal bone fracture with adjacent epidural   hematoma, and small right temporal SAH or SAH. transferred to TICU for   management of SDH/SAH, temporal bone fracture, intubated/sedated.   Repeat head CT revealed enlarging epidural hematoma, taken emergently   to OR for craniotomy with hematoma evacuation.   : OR craniotomy and hematoma evacuation   : Extubated, foley d/c   : Transfer to neuro step-down   Trauma, s/p assault with injuries as listed above   Assessment:   L head incision with dsd, cdi. Pt MAEs with normal strength, very   impulsive, will follow commands at times, garbled speech, confused,   word salad. Pupils 3mm/3mm equal and briskly reactive. Unsteady gait.   Action:   Neuro checks q 2 hours, reorient as needed, bed alarm on for pt safety.   Family at bedside. Dilantin increased to 200mg q 8 hours.   Response:   Neuro exam remains consistent.   Plan:   Neuro check q 2 hours, reorient as needed, Dilantin q 8 hours. Transfer   to neuro step-down today. 21yr male found down in  square ?assault?, found obtunded. Pt   noted to have a 3-5cm laceration to the left temporal area and the CT   of the head showed left temporal bone fracture with adjacent epidural   hematoma, and small right temporal SAH or SDH. Transferred to TICU for   management of SDH/SAH, temporal bone fracture, intubated/sedated.   Repeat head CT revealed enlarging epidural hematoma, taken emergently   to OR for craniotomy with hematoma evacuation.   : OR craniotomy and hematoma evacuation   : Extubated, foley d/c   Trauma, s/p assault with injuries as listed above   Assessment:   L head incision s/p craniotomy WNL, staples intact. Pt MAEs with   normal strength, very impulsive, will follow commands at times, garbled   speech, confused, word salad. Pupils 3mm/3mm equal and briskly   reactive. Unsteady gait.   Action:          Neuro checks q 2 hours          Reorient as needed, pt encouraged to participate in care          Bed alarm on for pt safety.          Family at bedside.          Dilantin increased to 200mg q 8 hours.   Response:          Neuro exam remains consistent. Pt slightly more appropriate   & allowing necessary care w/o resistance.   Plan:          Cont neuro check q 2 hours, reorient as needed,          Dilantin q 8 hours.          Transfer to neuro step-down tmrw.  7:45 AM CT HEAD W/O CONTRAST                                            Clip #  Reason: please evaluate for interval change. Admitting Diagnosis: HEAD BLEED ______________________________________________________________________________  MEDICAL CONDITION:  21 year old man with REASON FOR THIS EXAMINATION:  please evaluate for interval change. No contraindications for IV contrast ______________________________________________________________________________ PROVISIONAL FINDINGS IMPRESSION (PFI): DLrc FRI  2:14 PM  Interval increase in size of left temporal epidural hemorrhage collection, now  measuring 23 mm in its transverse dimension, increased from 17 mm.  This may  represent true increase or possible artifact from slice selection.  Stable in  appearance mass effect from associated lesion with stable left uncal and left  subfalcine herniation. ______________________________________________________________________________                                 FINAL REPORT INDICATION:  Patient is a 21-year-old male status post craniectomy with known bilateral epidural hematomas. EXAMINATION:  Noncontrast head CT. COMPARISONS:  Comparison to noncontrast head CT from  and . TECHNIQUE:  Contiguous axial images were obtained through the brain.  No contrast was administered. FINDINGS:  The patient is status post left temporoparietal craniotomy.  There appears to have been an interval increase in size of left temporal epidural hematoma, which now measures 23 mm in its greatest transverse diameter that is increased from 17 mm from prior study from . However, changes  in location of the sections with respect to the hematoma make comparison of size unreliable. There are other focal areas of hemorrhage located in the right temporal lobe and in the right frontal lobe that are unchanged in size and appearance. There is mild hypoattenuation surrounding the right frontal area of hemorrhage that represents surrounding edema.  There are no new areas of edema or hemorrhage. There is no evidence of masses or evidence for infarction.  The ventricles and sulci are normal in caliber and configuration.  There is slight improvement of the diffuse paranasal sinus opacification. There is an unchanged nondisplaced fracture that extends through the squamous portion of the left temporal bone. IMPRESSION: 1.  Possible interval increase in size of left temporal epidural hemorrhage from 17 mm on study from  in transverse diameter canal 23 mm.  This may be due to slice selection artifacts; however, this may be due to slice selection. There is no worsening of mass effect with stable appearance, left uncal herniation and subfalcine herniation. 2.  Stable appearance of right temporal hemorrhage.                                                             (Over)  7:45 AM CT HEAD W/O CONTRAST                                            Clip #  Reason: please evaluate for interval change. Admitting Diagnosis: HEAD BLEED ______________________________________________________________________________                                 FINAL REPORT (Cont) These findings were discussed with Dr.   at 12 p.m. on . , J.                    NSURG FA11                   7:45 AM CT HEAD W/O CONTRAST                                            Clip #  Reason: please evaluate for interval change. Admitting Diagnosis: HEAD BLEED ______________________________________________________________________________  MEDICAL CONDITION:  21 year old man with REASON FOR THIS EXAMINATION:  please evaluate for interval change. No contraindications for IV contrast ______________________________________________________________________________                                  PFI REPORT Interval increase in size of left temporal epidural hemorrhage collection, now measuring 23 mm in its transverse dimension, increased from 17 mm.  This may represent true increase or possible artifact from slice selection.  Stable in appearance mass effect from associated lesion with stable left uncal and left subfalcine herniation. , J.                    NSURG TSICU                  8:06 AM CT L-SPINE W/O CONTRAST                                         Clip #  Reason: eval for injury Admitting Diagnosis: HEAD BLEED ______________________________________________________________________________  MEDICAL CONDITION:  21 year old man s/p trauma REASON FOR THIS EXAMINATION:  eval for injury No contraindications for IV contrast ______________________________________________________________________________                                  PFI REPORT No evidence of fracture or malalignment alignment.  3:12 AM CT C-SPINE W/O CONTRAST                                         Clip #  Reason: ? fx ______________________________________________________________________________  MEDICAL CONDITION:  25 year old man with s/p assault REASON FOR THIS EXAMINATION:  ? fx No contraindications for IV contrast ______________________________________________________________________________ WET READ: JXRl SAT  5:29 AM  no fracture or prevertebral soft tissue swelling  relative narrowing of  spinous process interspace and widening of anterior  aspect of interveterbral disc space at this level may be positional.  MRI if concern for cord/ligamentous injury ______________________________________________________________________________                                 FINAL REPORT HISTORY:  25-year-old male status post fall. COMPARISON:  None. TECHNIQUE:  Non-contrast cervical spine CT was obtained.  Coronal and sagittal reformatted images were generated. FINDINGS:  No fracture is identified.  There is no prevertebral soft tissue swelling.  Vertebral body and intervertebral disc space heights are maintained. On sagittal view, there is a relative decrease of the spinous process of the interspace between the spinous processes at C6-7, with relative widening of the anterior aspect of the intervertebral disc space at this level.  There is no canal stenosis.  There is no significant degenerative change.  Surrounding soft tissues are unremarkable.  There is no apical pneumothorax. IMPRESSION: 1.  No fracture identified. 2.  Relative narrowing of the C6-7 spinous processes interspace with relative widening of the anterior intervertebral disc space at this level may be positional. 3.  If there is concern for cord or ligamentous injury, MRI should be obtained. , J.                    NSURG TSICU                  8:06 AM CT T-SPINE W/O CONTRAST                                         Clip #  Reason: eval for t-spine Admitting Diagnosis: HEAD BLEED ______________________________________________________________________________  MEDICAL CONDITION:  21 year old man s/p trauma REASON FOR THIS EXAMINATION:  eval for t-spine No contraindications for IV contrast ______________________________________________________________________________                                  PFI REPORT No evidence of fracture or malalignment.  8:06 AM CT L-SPINE W/O CONTRAST                                         Clip #  Reason: eval for injury Admitting Diagnosis: HEAD BLEED ______________________________________________________________________________  MEDICAL CONDITION:  21 year old man s/p trauma REASON FOR THIS EXAMINATION:  eval for injury No contraindications for IV contrast ______________________________________________________________________________ PROVISIONAL FINDINGS IMPRESSION (PFI): JXKc SAT  3:30 PM  No evidence of fracture or malalignment alignment. ______________________________________________________________________________                                 FINAL REPORT HISTORY:  21-year-old male status post trauma, evaluate for injury. No prior studies available for comparison. TECHNIQUE:  Contiguous axial images of the lumbar spine were obtained without IV contrast. FINDINGS:  Lumbar lordosis is preserved.  There is no fracture or malalignment.  The spinal canal appears grossly patent without evidence for an epidural hematoma.  Limited views of the abdomen reveal periportal edema, likely related to IV fluid hydration.  Otherwise, limited views are unremarkable. IMPRESSION:  No fracture or malalignment.  6:04 PM CT HEAD W/O CONTRAST; -76 BY SAME PHYSICIAN                      #  Reason: eval for interval change Admitting Diagnosis: HEAD BLEED ______________________________________________________________________________  MEDICAL CONDITION:  21 year old man s/p craniotomy and epidural hematoma evacuation REASON FOR THIS EXAMINATION:  eval for interval change No contraindications for IV contrast ______________________________________________________________________________ PROVISIONAL FINDINGS IMPRESSION (PFI): DMFj SAT  7:39 PM  PFI:  No significant interval change compared to examination six hours prior. ______________________________________________________________________________                                 FINAL REPORT STUDY:  CT of the head without contrast. HISTORY:  21-year-old male status post craniotomy and epidural hematoma evacuation.  Assess interval change. COMPARISONS:  CT  at 12:46 p.m. TECHNIQUE:  5-mm axial contiguous images of the head were obtained. FINDINGS:  The patient is status post partial evacuation of left temporal epidural hematoma.  Residual extra-axial hyperdense collection within the left middle cranial fossa measures up to 17 mm in greatest diameter and is slightly decreased compared to the earlier measurements of 19 mm (2:7).  A curvilinear hyperdense focus along the lateral border of the right middle cranial fossa measures 7 mm in short-axis diameter.  This may also represent an epidural hematoma (2:8).  Hyperdense focus with mild surrounding edema located more superiorly overlying the right temporal lobe is stable compared to the previous CT.  Mild shift of normally midline structures of approximately 3 mm to the right is stable.  No new foci of hemorrhage are noted.  The -white matter differentiation is otherwise preserved.  A left frontoparietal craniotomy defect is unchanged.  Partial opacification of the maxillary, sphenoid, and ethmoid sinuses is stable.  The mastoid air cells are well aerated. IMPRESSION: 1.  No interval change in residual left temporal epidural hematoma, status post partial evacuation compared to examination from six hours prior. 2.  No overt interval change of multiple small foci of extra-axial hematomas overlying the right frontal lobe which may also reflect smaller areas of epidural hematoma. 3.  Persistent mild shift of normally midline structures to the right of 3 mm.                                                             (Over)  6:04 PM CT HEAD W/O CONTRAST; -76 BY SAME PHYSICIAN                      #  Reason: eval for interval change Admitting Diagnosis: HEAD BLEED ______________________________________________________________________________                                 FINAL REPORT (Cont) , J.                    NSURG TSICU                  6:04 PM CT HEAD W/O CONTRAST; -76 BY SAME PHYSICIAN                      #  Reason: eval for interval change Admitting Diagnosis: HEAD BLEED ______________________________________________________________________________  MEDICAL CONDITION:  21 year old man s/p craniotomy and epidural hematoma evacuation REASON FOR THIS EXAMINATION:  eval for interval change No contraindications for IV contrast ______________________________________________________________________________                                  PFI REPORT PFI:  No significant interval change compared to examination six hours prior.  8:05 AM CT HEAD W/O CONTRAST                                            Clip #  Reason: Please eval for interval change in bleed. PLEASE PERFORM  Admitting Diagnosis: HEAD BLEED ______________________________________________________________________________  MEDICAL CONDITION:  21 year old man with left temporal EDH, right temporal SDH after trauma REASON FOR THIS EXAMINATION:  Please eval for interval change in bleed. PLEASE PERFORM AROUND 7:15 AM on  . Thanks No contraindications for IV contrast ______________________________________________________________________________ PROVISIONAL FINDINGS IMPRESSION (PFI): JXKc SAT  3:32 PM  Marked increase in size of the epidural hematoma overlying the left temporal  lobe, with new uncal herniation and rightward subfalcine herniation. ______________________________________________________________________________                                 FINAL REPORT HISTORY:  Followup of epidural hematoma. COMPARISON:   at 3:25 a.m. TECHNIQUE:  Contiguous axial images through the head were obtained without IV contrast. FINDINGS:  A left epidural hematoma overlying the left temporal lobe is markedly larger in size measuring up to 2.7 cm in maximal dimensions, with local mass effect as well as new uncal herniation.  A rightward subfalcine herniation is also increased, measuring approximately 5 mm.  Additional foci of extra-axial hematomas overlying the right temporal lobe (2:8) measure up to approximately 5 mm in maximum dimensions as well as also overlying the anterior right temporal lobe (2:13), which are similar in appearance from the prior study, and could reflect additional foci of epidural hematomas.  No new foci of hemorrhage are identified.  Ventricular caliber is unchanged. Visualized paranasal sinuses and mastoid air cells reveal mucosal thickening of bilateral maxillary, ethmoidal, and sphenoid sinuses.  Osseous structures are notable for a fracture involving the left temporal bone, better characterized on the previous study. IMPRESSION: 1.  Marked increase in size of the left epidural hematoma overlying the left temporal lobe, with new uncal herniation and increase in rightward subfalcine herniation. 2.  No interval change in additional foci of extra-axial hematoma overlying the right temporal lobe, likely also reflecting areas of epidural hematoma. Findings were discussed with Dr.   immediately at the time of interpretation. , J.                    NSURG TSICU                  8:05 AM CT HEAD W/O CONTRAST                                            Clip #  Reason: Please eval for interval change in bleed. PLEASE PERFORM  Admitting Diagnosis: HEAD BLEED ______________________________________________________________________________  MEDICAL CONDITION:  21 year old man with left temporal EDH, right temporal SDH after trauma REASON FOR THIS EXAMINATION:  Please eval for interval change in bleed. PLEASE PERFORM AROUND 7:15 AM on  . Thanks No contraindications for IV contrast ______________________________________________________________________________                                  PFI REPORT Marked increase in size of the epidural hematoma overlying the left temporal lobe, with new uncal herniation and rightward subfalcine herniation.  8:06 AM CT T-SPINE W/O CONTRAST                                         Clip #  Reason: eval for t-spine Admitting Diagnosis: HEAD BLEED ______________________________________________________________________________  MEDICAL CONDITION:  21 year old man s/p trauma REASON FOR THIS EXAMINATION:  eval for t-spine No contraindications for IV contrast ______________________________________________________________________________ PROVISIONAL FINDINGS IMPRESSION (PFI): JXKc SAT  2:54 PM  No evidence of fracture or malalignment. ______________________________________________________________________________                                 FINAL REPORT HISTORY:  21-year-old male status post trauma, evaluate for fracture. No prior studies available for comparison. TECHNIQUE:  Contiguous axial images of the thoracic spine were obtained without IV contrast. FINDINGS:  There is no fracture or malalignment.  The spinal canal appears grossly patent without evidence for an epidural hematoma.  Visualized lungs reveal dependent atelectases bilaterally.  An NG tube is partially visualized, an endotracheal tube is in standard position. IMPRESSION:  No evidence of fracture or malalignment.  3:12 AM CT HEAD W/O CONTRAST                                            Clip #  Reason: ? ich/fx ______________________________________________________________________________  MEDICAL CONDITION:  25 year old man with s/p assault REASON FOR THIS EXAMINATION:  ? ich/fx No contraindications for IV contrast ______________________________________________________________________________ WET READ: JXRl SAT  3:51 AM  - fracture of squamous part of left temporal bone  - bilateral extra-axial hyperdense collections.  Left most likely EDH b/c  overlying fracture.  Right more likely SDH or SAH. ______________________________________________________________________________                                 FINAL REPORT HISTORY:  25-year-old male status post assault. COMPARISON:  None. TECHNIQUE:  Non-contrast head CT was obtained. FINDINGS:  A non-displaced fracture extends through the squamous part of the left temporal bone (3: 10) into the foramen ovale.  There is an underlying left temporal extra-axial collection, likely epidural that measures 6 mm in greatest transverse dimension (2: 12).  Extra-axial blood is seen overlying the right frontotemporal lobe (2: 13-14). There is likely a subarachnoid component, there may be a small subdural component measuring 5 mm in greatest transverse dimension. There is no shift of normally midline structures or herniation at this time. The ventricles and basal cisterns are patent. There is left parietotemporal subgaleal hematoma superiorly.  Scattered ethmoid air cells are opacified, and there is minimal soft tissue density posteriorly within the right sphenoid sinus.  The mastoids are well aerated. There is mucosal thickening or small air-fluid levels dependently within the maxillary sinuses bilaterally. IMPRESSION: 1.  Non-displaced fracture of the squamous part of the left temporal bone. 2.  Left extra-axial collection, likely epidural hematoma. 3.  Right extra-axial blood, most likely subarachnoid hemorrhage and/or subdural hematoma. Findings were posted to the ED dashboard at 3:12 a.m. on .                                                             (Over)  3:12 AM CT HEAD W/O CONTRAST                                            Clip #  Reason: ? ich/fx ______________________________________________________________________________                                 FINAL REPORT (Cont)  12:16 PM CT HEAD W/O CONTRAST; -76 BY SAME PHYSICIAN                      #  Reason: 21 year old man s/p assault, taken to the OR for emergent L Admitting Diagnosis: HEAD BLEED ______________________________________________________________________________  MEDICAL CONDITION:  21 year old man s/p assault, taken to the OR for emergent L temporal EDH  evacuation REASON FOR THIS EXAMINATION:  21 year old man s/p assault, taken to the OR for emergent L temporal EDH  evacuation No contraindications for IV contrast ______________________________________________________________________________ PROVISIONAL FINDINGS IMPRESSION (PFI): JXKc SAT  2:00 PM  Status post partial evacuation of a left epidural hematoma, with a residual  extra-axial hematoma overlying the left temporal lobe anteriorly measuring up  to 1.9 cm in maximum dimensions, with residual mild uncal herniation and  rightward subfalcine herniation.  No interval change on the right-sided  extra-axial hematomas. ______________________________________________________________________________                                 FINAL REPORT HISTORY:  21-year-old male status post assault taken to the OR emergently, after left temporal epidural hematoma evacuation. COMPARISON:  , at 8:10 a.m. TECHNIQUE:  Contiguous axial images of the head were obtained without IV contrast. FINDINGS:  There has been interval left temporal craniotomy, with partial evacuation of a left epidural hematoma.  There is a residual the left extra- axial hematoma measuring up to 1.9 cm in maximum dimension anteriorly, with local mass effect on the adjacent temporal lobe, with residual uncal herniation.  There continues to be mild rightward subfalcine herniation of approximately 3 mm.  Additional foci of extra-axial hematomas overlying the right temporal lobe are unchanged, measuring up to approximately 5-6 mm in greatest dimensions, could also reflect areas of epidural hematomas.  There are no new foci of hemorrhage.  There is no acute infarct.  The -white differentiation appears preserved.  Visualized paranasal sinuses and mastoid air cells reveal patchy mucosal thickening of the bilateral maxillary sinuses, ethmoid sinuses, and sphenoid sinuses.  Additionally, there is an orogastric tube that appears to be partially coiled near the region of the nasopharynx. IMPRESSION: 1.  Partial evacuation of left temporal epidural hematoma, with residual extra-axial hematoma overlying the left temporal lobe measuring 1.9 cm in maximal dimensions. 2.  No interval change in small foci of additional extra-axial hematomas overlying the right temporal lobe, which could also reflect areas of epidural hematoma.                                                             (Over)  12:16 PM CT HEAD W/O CONTRAST; -76 BY SAME PHYSICIAN                      #  Reason: 21 year old man s/p assault, taken to the OR for emergent L Admitting Diagnosis: HEAD BLEED ______________________________________________________________________________                                 FINAL REPORT (Cont) , J.                    NSURG TSICU                 12:16 PM CT HEAD W/O CONTRAST; -76 BY SAME PHYSICIAN                      #  Reason: 21 year old man s/p assault, taken to the OR for emergent L Admitting Diagnosis: HEAD BLEED ______________________________________________________________________________  MEDICAL CONDITION:  21 year old man s/p assault, taken to the OR for emergent L temporal EDH  evacuation REASON FOR THIS EXAMINATION:  21 year old man s/p assault, taken to the OR for emergent L temporal EDH  evacuation No contraindications for IV contrast ______________________________________________________________________________                                  PFI REPORT Status post partial evacuation of a left epidural hematoma, with a residual extra-axial hematoma overlying the left temporal lobe anteriorly measuring up to 1.9 cm in maximum dimensions, with residual mild uncal herniation and rightward subfalcine herniation.  No interval change on the right-sided extra-axial hematomas.  3:37 AM CHEST (PORTABLE AP)                                             Clip #  Reason: eval tube placement, please also eval for acute pulm process ______________________________________________________________________________  MEDICAL CONDITION:  21 year old man with head injury s/p intubation REASON FOR THIS EXAMINATION:  eval tube placement, please also eval for acute pulm process ______________________________________________________________________________                                 FINAL REPORT HISTORY:  21-year-old male with head injury status post intubation. COMPARISON:  None. AP SUPINE CHEST:  Endotracheal tube terminates at the level of the clavicular heads, approximately 6 cm above the carina.  The nasogastric tube terminates at the level of the diaphragm.  The side holes are located within the distal esophagus. The lungs are clear.  Cardiac size and pulmonary vasculature are normal. IMPRESSION: 1.  ET tube terminating 6 cm above the carina. 2.  The NG tube is high, terminating at the level of the diaphragm and should be advanced.  This was discussed with Dr.   at 5:05am on . 3.  Clear lungs.  8:34 AM CT HEAD W/O CONTRAST                                            Clip #  Reason: 21 year old male s/p EDH drainage Admitting Diagnosis: HEAD BLEED ______________________________________________________________________________  MEDICAL CONDITION:  21 year old male s/p EDH drainage REASON FOR THIS EXAMINATION:  21 year old male s/p EDH drainage No contraindications for IV contrast ______________________________________________________________________________ PROVISIONAL FINDINGS IMPRESSION (PFI): FBr SUN  9:51 AM  Unchanged size of extra-axial hemorrhages and interval improvement in the left  uncal herniation.  The right-sided subfalcine herniation is unchanged. ______________________________________________________________________________                                 FINAL REPORT INDICATION:  21-year-old man with epidural hematoma drainage. Comparison is made to the prior study of . TECHNIQUE:  Non-contrast head CT. FINDINGS:  The patient is status post left temporoparietal craniotomy.  The residual left temporal epidural hematoma measures 17 mm which is unchanged compared to the prior study.  The right temporal epidural hematoma is also unchanged measuring 7 mm in the short axis.  The right frontal epidural hematoma is also unchanged in size.  The mass effect of the extraaxial hemorrhage in the left temporal region has improved with improvement in the left uncal herniation.  4-mm rightward subfalcine herniation is also unchanged.  Diffuse opacification of the ethmoid, maxillary, and sphenoid sinuses are unchanged.  The orogastric tube is partially coiled in the region of the nasopharynx. IMPRESSION: 1.  Status post left temporal craniotomy with stable appearance of the bilateral extra-axial temporal hemorrhage and the right frontal extra-axial hemorrhage. 2.  Interval improvement in the left uncal herniation.  Unchanged subfalcine herniation. , J.                    NSURG TSICU                  8:34 AM CT HEAD W/O CONTRAST                                            Clip #  Reason: 21 year old male s/p EDH drainage Admitting Diagnosis: HEAD BLEED ______________________________________________________________________________  MEDICAL CONDITION:  21 year old male s/p EDH drainage REASON FOR THIS EXAMINATION:  21 year old male s/p EDH drainage No contraindications for IV contrast ______________________________________________________________________________                                  PFI REPORT Unchanged size of extra-axial hemorrhages and interval improvement in the left uncal herniation.  The right-sided subfalcine herniation is unchanged.\""
      ]
     },
     "execution_count": 462,
     "metadata": {},
     "output_type": "execute_result"
    }
   ],
   "source": [
    "test_case"
   ]
  },
  {
   "cell_type": "code",
   "execution_count": 461,
   "metadata": {},
   "outputs": [],
   "source": [
    "test_case=X_train[1]"
   ]
  },
  {
   "cell_type": "code",
   "execution_count": 59,
   "metadata": {},
   "outputs": [],
   "source": [
    "lgbm_input=tfidf_transformer.transform([test_case])"
   ]
  },
  {
   "cell_type": "code",
   "execution_count": 183,
   "metadata": {},
   "outputs": [],
   "source": [
    "lgbm_prob_output=lgbm_model.predict_proba(lgbm_input)[0, 1]"
   ]
  },
  {
   "cell_type": "code",
   "execution_count": 184,
   "metadata": {},
   "outputs": [
    {
     "data": {
      "text/plain": [
       "0.5101406211343565"
      ]
     },
     "execution_count": 184,
     "metadata": {},
     "output_type": "execute_result"
    }
   ],
   "source": [
    "lgbm_prob_output"
   ]
  },
  {
   "cell_type": "code",
   "execution_count": 62,
   "metadata": {},
   "outputs": [],
   "source": [
    "nn_unpadded_input=[[tfidf2_dict[word] for word in note.split() if word in tfidf2_dict.keys()] for note in [test_case]]"
   ]
  },
  {
   "cell_type": "code",
   "execution_count": 63,
   "metadata": {},
   "outputs": [],
   "source": [
    "maxlen=2000\n",
    "nn_padded_input=pad_sequences(nn_unpadded_input, dtype='float32', padding='post', maxlen=maxlen)"
   ]
  },
  {
   "cell_type": "code",
   "execution_count": 138,
   "metadata": {},
   "outputs": [],
   "source": [
    "nn_output=nn_model.predict(nn_padded_input)[0,0]"
   ]
  },
  {
   "cell_type": "code",
   "execution_count": 140,
   "metadata": {},
   "outputs": [
    {
     "data": {
      "text/plain": [
       "0.5203931"
      ]
     },
     "execution_count": 140,
     "metadata": {},
     "output_type": "execute_result"
    }
   ],
   "source": [
    "nn_output"
   ]
  },
  {
   "cell_type": "markdown",
   "metadata": {},
   "source": [
    "## Plot"
   ]
  },
  {
   "cell_type": "code",
   "execution_count": 84,
   "metadata": {},
   "outputs": [],
   "source": [
    "lgbm_importance_list=lgbm_model.feature_importances_.tolist()"
   ]
  },
  {
   "cell_type": "code",
   "execution_count": 101,
   "metadata": {},
   "outputs": [],
   "source": [
    "lgbm_min_importance=min([i for i in lgbm_importance_list if i!=0])/10\n",
    "lgbm_importance_list_fixed=[lgbm_min_importance if i==0 else i for i in lgbm_importance_list]"
   ]
  },
  {
   "cell_type": "code",
   "execution_count": 85,
   "metadata": {},
   "outputs": [],
   "source": [
    "lgbm_feature_name_list=tfidf_transformer.get_feature_names()"
   ]
  },
  {
   "cell_type": "code",
   "execution_count": 446,
   "metadata": {},
   "outputs": [
    {
     "data": {
      "text/plain": [
       "'unspecified essential hypertension'"
      ]
     },
     "execution_count": 446,
     "metadata": {},
     "output_type": "execute_result"
    }
   ],
   "source": [
    "max(lgbm_feature_name_list)"
   ]
  },
  {
   "cell_type": "code",
   "execution_count": 102,
   "metadata": {},
   "outputs": [
    {
     "data": {
      "text/plain": [
       "{'essential': 591,\n",
       " 'essential hypertension': 28.7,\n",
       " 'hypertension': 627,\n",
       " 'unspecified': 287,\n",
       " 'unspecified essential': 28.7,\n",
       " 'unspecified essential hypertension': 28.7}"
      ]
     },
     "execution_count": 102,
     "metadata": {},
     "output_type": "execute_result"
    }
   ],
   "source": [
    "importance_dict=dict((i,j) for (i,j) in zip(lgbm_feature_name_list, lgbm_importance_list_fixed) if j!=0)\n",
    "importance_dict"
   ]
  },
  {
   "cell_type": "code",
   "execution_count": 103,
   "metadata": {},
   "outputs": [],
   "source": [
    "from wordcloud import WordCloud "
   ]
  },
  {
   "cell_type": "code",
   "execution_count": 104,
   "metadata": {},
   "outputs": [],
   "source": [
    "wordcloud = WordCloud(width = 800, height = 800, \n",
    "                background_color ='white', \n",
    "                min_font_size = 10).generate_from_frequencies(importance_dict) "
   ]
  },
  {
   "cell_type": "code",
   "execution_count": 105,
   "metadata": {},
   "outputs": [
    {
     "data": {
      "image/png": "[encoded data removed]",
      "text/plain": [
       "<matplotlib.figure.Figure at 0x923d8f60>"
      ]
     },
     "metadata": {},
     "output_type": "display_data"
    }
   ],
   "source": [
    "plt.figure(figsize = (4, 4), facecolor = None) \n",
    "plt.imshow(wordcloud) \n",
    "plt.axis(\"off\") \n",
    "plt.tight_layout(pad = 0) \n",
    "  \n",
    "plt.show()"
   ]
  },
  {
   "cell_type": "code",
   "execution_count": 187,
   "metadata": {},
   "outputs": [],
   "source": [
    "lgbm_contri_output=lgbm_model.predict_proba(lgbm_input,pred_contrib=True).tolist()[0]"
   ]
  },
  {
   "cell_type": "code",
   "execution_count": 332,
   "metadata": {},
   "outputs": [
    {
     "data": {
      "text/plain": [
       "[0.0025241999848575848,\n",
       " 0.0,\n",
       " 0.6098181369229614,\n",
       " 0.0031612580851954866,\n",
       " 0.0,\n",
       " 0.0,\n",
       " -0.5749355475767552]"
      ]
     },
     "execution_count": 332,
     "metadata": {},
     "output_type": "execute_result"
    }
   ],
   "source": [
    "lgbm_contri_output"
   ]
  },
  {
   "cell_type": "code",
   "execution_count": 355,
   "metadata": {},
   "outputs": [
    {
     "data": {
      "text/plain": [
       "[0,\n",
       " 0.5006310496611488,\n",
       " 0.5006310496611488,\n",
       " 0.6484749354596063,\n",
       " 0.6491952219792482,\n",
       " 0.6491952219792482,\n",
       " 0.6491952219792482,\n",
       " 0.5101406211343561]"
      ]
     },
     "execution_count": 355,
     "metadata": {},
     "output_type": "execute_result"
    }
   ],
   "source": [
    "prob_cum_list=list(1/(1+np.exp(-np.cumsum(lgbm_contri_output))))\n",
    "prob_cum_list.insert(0,0)\n",
    "prob_cum_list"
   ]
  },
  {
   "cell_type": "code",
   "execution_count": 356,
   "metadata": {},
   "outputs": [
    {
     "data": {
      "text/plain": [
       "[0.5006310496611488,\n",
       " 0.0,\n",
       " 0.14784388579845753,\n",
       " 0.000720286519641844,\n",
       " 0.0,\n",
       " 0.0,\n",
       " -0.13905460084489207,\n",
       " 0.4898593788656439]"
      ]
     },
     "execution_count": 356,
     "metadata": {},
     "output_type": "execute_result"
    }
   ],
   "source": [
    "prob_list=list(np.diff(prob_cum_list))\n",
    "prob_list.append(min(max(prob_cum_list[-1]+nn_output,0),1)-prob_cum_list[-1])\n",
    "prob_list"
   ]
  },
  {
   "cell_type": "code",
   "execution_count": 357,
   "metadata": {},
   "outputs": [
    {
     "data": {
      "text/plain": [
       "['Intercept',\n",
       " 'essential',\n",
       " 'essential hypertension',\n",
       " 'hypertension',\n",
       " 'unspecified',\n",
       " 'unspecified essential',\n",
       " 'unspecified essential hypertension',\n",
       " 'convolutional neural network']"
      ]
     },
     "execution_count": 357,
     "metadata": {},
     "output_type": "execute_result"
    }
   ],
   "source": [
    "prob_source_name_list=['Intercept']\n",
    "prob_source_name_list.extend(lgbm_feature_name_list)\n",
    "prob_source_name_list.append('convolutional neural network')\n",
    "prob_source_name_list"
   ]
  },
  {
   "cell_type": "code",
   "execution_count": 421,
   "metadata": {},
   "outputs": [
    {
     "data": {
      "text/html": [
       "<div>\n",
       "<style scoped>\n",
       "    .dataframe tbody tr th:only-of-type {\n",
       "        vertical-align: middle;\n",
       "    }\n",
       "\n",
       "    .dataframe tbody tr th {\n",
       "        vertical-align: top;\n",
       "    }\n",
       "\n",
       "    .dataframe thead th {\n",
       "        text-align: right;\n",
       "    }\n",
       "</style>\n",
       "<table border=\"1\" class=\"dataframe\">\n",
       "  <thead>\n",
       "    <tr style=\"text-align: right;\">\n",
       "      <th></th>\n",
       "      <th>Importance</th>\n",
       "    </tr>\n",
       "  </thead>\n",
       "  <tbody>\n",
       "    <tr>\n",
       "      <th>unspecified essential hypertension</th>\n",
       "      <td>-0.139055</td>\n",
       "    </tr>\n",
       "    <tr>\n",
       "      <th>essential</th>\n",
       "      <td>0.000000</td>\n",
       "    </tr>\n",
       "    <tr>\n",
       "      <th>unspecified</th>\n",
       "      <td>0.000000</td>\n",
       "    </tr>\n",
       "    <tr>\n",
       "      <th>unspecified essential</th>\n",
       "      <td>0.000000</td>\n",
       "    </tr>\n",
       "    <tr>\n",
       "      <th>hypertension</th>\n",
       "      <td>0.000720</td>\n",
       "    </tr>\n",
       "    <tr>\n",
       "      <th>essential hypertension</th>\n",
       "      <td>0.147844</td>\n",
       "    </tr>\n",
       "    <tr>\n",
       "      <th>convolutional neural network</th>\n",
       "      <td>0.489859</td>\n",
       "    </tr>\n",
       "    <tr>\n",
       "      <th>Intercept</th>\n",
       "      <td>0.500631</td>\n",
       "    </tr>\n",
       "  </tbody>\n",
       "</table>\n",
       "</div>"
      ],
      "text/plain": [
       "                                    Importance\n",
       "unspecified essential hypertension   -0.139055\n",
       "essential                             0.000000\n",
       "unspecified                           0.000000\n",
       "unspecified essential                 0.000000\n",
       "hypertension                          0.000720\n",
       "essential hypertension                0.147844\n",
       "convolutional neural network          0.489859\n",
       "Intercept                             0.500631"
      ]
     },
     "execution_count": 421,
     "metadata": {},
     "output_type": "execute_result"
    }
   ],
   "source": [
    "trans = pd.DataFrame(data={'Importance': prob_list},index=prob_source_name_list).sort_values(by=['Importance'])\n",
    "trans"
   ]
  },
  {
   "cell_type": "code",
   "execution_count": 422,
   "metadata": {},
   "outputs": [
    {
     "data": {
      "text/plain": [
       "unspecified essential hypertension    0.000000\n",
       "essential                            -0.139055\n",
       "unspecified                          -0.139055\n",
       "unspecified essential                -0.139055\n",
       "hypertension                         -0.139055\n",
       "essential hypertension               -0.138334\n",
       "convolutional neural network          0.009510\n",
       "Intercept                             0.499369\n",
       "Name: Importance, dtype: float64"
      ]
     },
     "execution_count": 422,
     "metadata": {},
     "output_type": "execute_result"
    }
   ],
   "source": [
    "blank=trans.Importance.cumsum().shift(1).fillna(0)\n",
    "blank"
   ]
  },
  {
   "cell_type": "code",
   "execution_count": 423,
   "metadata": {},
   "outputs": [],
   "source": [
    "total = trans.sum().Importance\n",
    "trans.loc[\"net\"] = -total\n",
    "blank.loc[\"net\"] = total"
   ]
  },
  {
   "cell_type": "code",
   "execution_count": 424,
   "metadata": {},
   "outputs": [
    {
     "data": {
      "text/html": [
       "<div>\n",
       "<style scoped>\n",
       "    .dataframe tbody tr th:only-of-type {\n",
       "        vertical-align: middle;\n",
       "    }\n",
       "\n",
       "    .dataframe tbody tr th {\n",
       "        vertical-align: top;\n",
       "    }\n",
       "\n",
       "    .dataframe thead th {\n",
       "        text-align: right;\n",
       "    }\n",
       "</style>\n",
       "<table border=\"1\" class=\"dataframe\">\n",
       "  <thead>\n",
       "    <tr style=\"text-align: right;\">\n",
       "      <th></th>\n",
       "      <th>Importance</th>\n",
       "    </tr>\n",
       "  </thead>\n",
       "  <tbody>\n",
       "    <tr>\n",
       "      <th>unspecified essential hypertension</th>\n",
       "      <td>-0.139055</td>\n",
       "    </tr>\n",
       "    <tr>\n",
       "      <th>essential</th>\n",
       "      <td>0.000000</td>\n",
       "    </tr>\n",
       "    <tr>\n",
       "      <th>unspecified</th>\n",
       "      <td>0.000000</td>\n",
       "    </tr>\n",
       "    <tr>\n",
       "      <th>unspecified essential</th>\n",
       "      <td>0.000000</td>\n",
       "    </tr>\n",
       "    <tr>\n",
       "      <th>hypertension</th>\n",
       "      <td>0.000720</td>\n",
       "    </tr>\n",
       "    <tr>\n",
       "      <th>essential hypertension</th>\n",
       "      <td>0.147844</td>\n",
       "    </tr>\n",
       "    <tr>\n",
       "      <th>convolutional neural network</th>\n",
       "      <td>0.489859</td>\n",
       "    </tr>\n",
       "    <tr>\n",
       "      <th>Intercept</th>\n",
       "      <td>0.500631</td>\n",
       "    </tr>\n",
       "    <tr>\n",
       "      <th>net</th>\n",
       "      <td>-1.000000</td>\n",
       "    </tr>\n",
       "  </tbody>\n",
       "</table>\n",
       "</div>"
      ],
      "text/plain": [
       "                                    Importance\n",
       "unspecified essential hypertension   -0.139055\n",
       "essential                             0.000000\n",
       "unspecified                           0.000000\n",
       "unspecified essential                 0.000000\n",
       "hypertension                          0.000720\n",
       "essential hypertension                0.147844\n",
       "convolutional neural network          0.489859\n",
       "Intercept                             0.500631\n",
       "net                                  -1.000000"
      ]
     },
     "execution_count": 424,
     "metadata": {},
     "output_type": "execute_result"
    }
   ],
   "source": [
    "trans"
   ]
  },
  {
   "cell_type": "code",
   "execution_count": 425,
   "metadata": {},
   "outputs": [
    {
     "data": {
      "text/plain": [
       "unspecified essential hypertension    0.000000\n",
       "essential                            -0.139055\n",
       "unspecified                          -0.139055\n",
       "unspecified essential                -0.139055\n",
       "hypertension                         -0.139055\n",
       "essential hypertension               -0.138334\n",
       "convolutional neural network          0.009510\n",
       "Intercept                             0.499369\n",
       "net                                   1.000000\n",
       "Name: Importance, dtype: float64"
      ]
     },
     "execution_count": 425,
     "metadata": {},
     "output_type": "execute_result"
    }
   ],
   "source": [
    "blank"
   ]
  },
  {
   "cell_type": "code",
   "execution_count": 426,
   "metadata": {},
   "outputs": [],
   "source": [
    "step = blank.reset_index(drop=True).repeat(3).shift(-1)\n",
    "step[1::3] = np.nan"
   ]
  },
  {
   "cell_type": "code",
   "execution_count": 456,
   "metadata": {},
   "outputs": [
    {
     "data": {
      "text/plain": [
       "<matplotlib.figure.Figure at 0xa716f0b8>"
      ]
     },
     "metadata": {},
     "output_type": "display_data"
    }
   ],
   "source": [
    "my_plot=plt.figure(figsize = (4, 4)) "
   ]
  },
  {
   "cell_type": "code",
   "execution_count": 460,
   "metadata": {},
   "outputs": [
    {
     "data": {
      "text/plain": [
       "[<matplotlib.lines.Line2D at 0xa72e85f8>]"
      ]
     },
     "execution_count": 460,
     "metadata": {},
     "output_type": "execute_result"
    },
    {
     "data": {
      "image/png": "[encoded data removed]",
      "text/plain": [
       "<matplotlib.figure.Figure at 0xa714e4e0>"
      ]
     },
     "metadata": {},
     "output_type": "display_data"
    }
   ],
   "source": [
    "my_plot = trans.plot(kind='bar', stacked=True, bottom=blank,legend=None, title=\"Predicted Probability Waterfall\",ylim=(-0.5,1.5),figsize=(8,8))\n",
    "my_plot.plot(step.index, step.values,'k')"
   ]
  },
  {
   "cell_type": "code",
   "execution_count": 459,
   "metadata": {},
   "outputs": [
    {
     "data": {
      "text/plain": [
       "matplotlib.axes._subplots.AxesSubplot"
      ]
     },
     "execution_count": 459,
     "metadata": {},
     "output_type": "execute_result"
    }
   ],
   "source": [
    "type(my_plot)"
   ]
  },
  {
   "cell_type": "code",
   "execution_count": null,
   "metadata": {},
   "outputs": [],
   "source": []
  },
  {
   "cell_type": "code",
   "execution_count": null,
   "metadata": {},
   "outputs": [],
   "source": []
  }
 ],
 "metadata": {
  "kernelspec": {
   "display_name": "Python 3",
   "language": "python",
   "name": "python3"
  },
  "language_info": {
   "codemirror_mode": {
    "name": "ipython",
    "version": 3
   },
   "file_extension": ".py",
   "mimetype": "text/x-python",
   "name": "python",
   "nbconvert_exporter": "python",
   "pygments_lexer": "ipython3",
   "version": "3.6.4"
  }
 },
 "nbformat": 4,
 "nbformat_minor": 2
}
